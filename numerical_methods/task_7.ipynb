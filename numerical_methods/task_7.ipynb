{
 "cells": [
  {
   "cell_type": "code",
   "execution_count": 1,
   "id": "06a7db5c-98c4-4d1f-a89a-4f4015f30f50",
   "metadata": {},
   "outputs": [],
   "source": [
    "import numpy as np\n",
    "import pandas as pd"
   ]
  },
  {
   "cell_type": "code",
   "execution_count": null,
   "id": "0a9db678-dcf5-4c7c-ad97-bc137664a3b9",
   "metadata": {},
   "outputs": [],
   "source": [
    "\n",
    "x = np.array([1, 1.2, 1.4, 1.6, 1.8, 2])\n",
    "y = np.array([0.8, 2, 2.9, 4.2, 5.2, 5.8])\n"
   ]
  }
 ],
 "metadata": {
  "kernelspec": {
   "display_name": "Python 3 (ipykernel)",
   "language": "python",
   "name": "python3"
  },
  "language_info": {
   "codemirror_mode": {
    "name": "ipython",
    "version": 3
   },
   "file_extension": ".py",
   "mimetype": "text/x-python",
   "name": "python",
   "nbconvert_exporter": "python",
   "pygments_lexer": "ipython3",
   "version": "3.8.10"
  }
 },
 "nbformat": 4,
 "nbformat_minor": 5
}
