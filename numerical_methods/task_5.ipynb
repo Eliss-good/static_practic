{
 "cells": [
  {
   "cell_type": "markdown",
   "id": "1280d4db",
   "metadata": {},
   "source": [
    "# Задание №5\n",
    "### Метод вращения для поиска собственных значений матрицы"
   ]
  },
  {
   "cell_type": "code",
   "execution_count": 1,
   "id": "7e76fbe8",
   "metadata": {},
   "outputs": [],
   "source": [
    "import pandas as pd\n",
    "import numpy as np\n",
    "from math import atan, sin, cos"
   ]
  },
  {
   "cell_type": "code",
   "execution_count": 2,
   "id": "3cf28b60",
   "metadata": {
    "scrolled": true
   },
   "outputs": [],
   "source": [
    "matrix = np.array([[1, 2, -4],\n",
    "                  [2, 3, 4],\n",
    "                  [-4, 4, 5]]) #Начальный массив\n",
    "\n",
    "e = 0.0001 #Минимальное значение элементов, вне главной диаганали"
   ]
  },
  {
   "cell_type": "code",
   "execution_count": 3,
   "id": "716e770f",
   "metadata": {},
   "outputs": [],
   "source": [
    "def find_degree(aij, aii, ajj):\n",
    "    return (atan((2 * aij)/(aii - ajj)))/2     "
   ]
  },
  {
   "cell_type": "code",
   "execution_count": 4,
   "id": "7924a621",
   "metadata": {},
   "outputs": [],
   "source": [
    "def create_matrix_deegree(degree, shape):\n",
    "    row = shape[0]\n",
    "    column = shape[1]\n",
    "    \n",
    "    matrix_degree = np.array([[cos(degree), -sin(degree)],\n",
    "                             [sin(degree),  cos(degree)]])\n",
    "    e_matrix = np.eye(3)\n",
    "    \n",
    "    e_matrix[row][row] = matrix_degree[0][0]\n",
    "    e_matrix[column][column] = matrix_degree[1][1]\n",
    "    e_matrix[row][column] = matrix_degree[0][1]\n",
    "    e_matrix[column][row] = matrix_degree[1][0]\n",
    "\n",
    "    return e_matrix"
   ]
  },
  {
   "cell_type": "code",
   "execution_count": 5,
   "id": "d631fb5f",
   "metadata": {},
   "outputs": [],
   "source": [
    "i,j = np.indices(matrix.shape)\n",
    "def create_copy(past_arr):\n",
    "    copy_matrix = matrix.copy()\n",
    "    copy_matrix[copy_matrix < 0] *= -1\n",
    "    copy_matrix[i == j] = 0\n",
    "    \n",
    "    \n",
    "    return copy_matrix"
   ]
  },
  {
   "cell_type": "code",
   "execution_count": 6,
   "id": "add60596",
   "metadata": {},
   "outputs": [
    {
     "name": "stdout",
     "output_type": "stream",
     "text": [
      "\n",
      "[[-1.47213595e+00  3.80422607e+00 -3.15458600e-16]\n",
      " [ 3.80422607e+00  3.00000000e+00  2.35114101e+00]\n",
      " [-3.50025531e-17  2.35114101e+00  7.47213595e+00]]\n",
      "\n",
      "\n",
      "[[-3.64879230e+00 -1.11068736e-16 -1.16762992e+00]\n",
      " [-3.99890760e-17  5.17665635e+00  2.04071174e+00]\n",
      " [-1.16762992e+00  2.04071174e+00  7.47213595e+00]]\n",
      "\n",
      "\n",
      "[[-3.64879230e+00  5.89503293e-01 -1.00789161e+00]\n",
      " [ 5.89503293e-01  3.98306937e+00 -1.68495910e-16]\n",
      " [-1.00789161e+00  8.39348521e-18  8.66572293e+00]]\n",
      "\n",
      "\n",
      "[[-3.73073871e+00  5.87564454e-01  1.77742891e-17]\n",
      " [ 5.87564454e-01  3.98306937e+00 -4.77717997e-02]\n",
      " [ 2.66554158e-16 -4.77717997e-02  8.74766934e+00]]\n",
      "\n",
      "\n",
      "[[-3.77523708e+00  6.46092316e-17  3.60759918e-03]\n",
      " [-1.50501384e-17  4.02756774e+00 -4.76353868e-02]\n",
      " [ 3.60759918e-03 -4.76353868e-02  8.74766934e+00]]\n",
      "\n",
      "\n",
      "[[-3.77523708e+00  3.64024231e-05  3.60741552e-03]\n",
      " [ 3.64024231e-05  4.02708705e+00  1.64087020e-17]\n",
      " [ 3.60741552e-03  2.07756065e-16  8.74815002e+00]]\n",
      "\n",
      "\n",
      "[[-3.77523812e+00  3.64024216e-05 -2.36369042e-16]\n",
      " [ 3.64024216e-05  4.02708705e+00  1.04858733e-08]\n",
      " [-4.27412644e-19  1.04858734e-08  8.74815106e+00]]\n",
      "\n"
     ]
    }
   ],
   "source": [
    "copy_matrix = create_copy(matrix)\n",
    "\n",
    "\n",
    "while copy_matrix.max() > e:\n",
    "    ind = np.unravel_index(np.argmax(copy_matrix), copy_matrix.shape)\n",
    "    degree = find_degree(matrix[ind[0]][ind[1]], matrix[ind[0]][ind[0]], matrix[ind[1]][ind[1]],)\n",
    "    \n",
    "    deg_arr = create_matrix_deegree(degree, ind)\n",
    "    matrix = np.dot(np.dot(deg_arr.transpose(), matrix), deg_arr)\n",
    "    copy_matrix = create_copy(matrix)\n",
    "    \n",
    "    print(f'\\n{matrix}\\n')"
   ]
  },
  {
   "cell_type": "markdown",
   "id": "c76836fb",
   "metadata": {},
   "source": [
    "#### Результат"
   ]
  },
  {
   "cell_type": "code",
   "execution_count": 7,
   "id": "94433efc",
   "metadata": {},
   "outputs": [
    {
     "name": "stdout",
     "output_type": "stream",
     "text": [
      "[[-3.77523812  0.          0.        ]\n",
      " [ 0.          4.02708705  0.        ]\n",
      " [ 0.          0.          8.74815106]]\n"
     ]
    }
   ],
   "source": [
    "matrix[i!=j] = 0\n",
    "print(matrix)"
   ]
  },
  {
   "cell_type": "code",
   "execution_count": null,
   "id": "dae06602-e470-44af-a840-719944525601",
   "metadata": {},
   "outputs": [],
   "source": []
  }
 ],
 "metadata": {
  "kernelspec": {
   "display_name": "Python 3 (ipykernel)",
   "language": "python",
   "name": "python3"
  },
  "language_info": {
   "codemirror_mode": {
    "name": "ipython",
    "version": 3
   },
   "file_extension": ".py",
   "mimetype": "text/x-python",
   "name": "python",
   "nbconvert_exporter": "python",
   "pygments_lexer": "ipython3",
   "version": "3.8.10"
  }
 },
 "nbformat": 4,
 "nbformat_minor": 5
}
