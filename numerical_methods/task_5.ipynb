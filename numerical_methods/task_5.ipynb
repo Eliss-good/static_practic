{
 "cells": [
  {
   "cell_type": "markdown",
   "id": "1280d4db",
   "metadata": {},
   "source": [
    "# Задание №5\n",
    "### Метод вращения для поиска собственных значений матрицы"
   ]
  },
  {
   "cell_type": "code",
   "execution_count": 1,
   "id": "7e76fbe8",
   "metadata": {},
   "outputs": [],
   "source": [
    "import pandas as pd\n",
    "import numpy as np\n",
    "from math import atan, sin, cos"
   ]
  },
  {
   "cell_type": "code",
   "execution_count": 2,
   "id": "3cf28b60",
   "metadata": {
    "scrolled": true
   },
   "outputs": [],
   "source": [
    "matrix = np.array([[1, 2, 5],\n",
    "                  [2, 3, 4],\n",
    "                  [5, 4, 5]]) #Начальный массив\n",
    "\n",
    "e = 0.0001 #Минимальное значение элементов, вне главной диаганали"
   ]
  },
  {
   "cell_type": "code",
   "execution_count": 3,
   "id": "716e770f",
   "metadata": {},
   "outputs": [],
   "source": [
    "def find_degree(aij, aii, ajj):\n",
    "    return (atan((2 * aij)/(aii - ajj)))/2     "
   ]
  },
  {
   "cell_type": "code",
   "execution_count": 4,
   "id": "7924a621",
   "metadata": {},
   "outputs": [],
   "source": [
    "def create_matrix_deegree(degree, shape):\n",
    "    row = shape[0]\n",
    "    column = shape[1]\n",
    "    \n",
    "    matrix_degree = np.array([[cos(degree), -sin(degree)],\n",
    "                             [sin(degree),  cos(degree)]])\n",
    "    e_matrix = np.eye(3)\n",
    "    \n",
    "    e_matrix[row][row] = matrix_degree[0][0]\n",
    "    e_matrix[column][column] = matrix_degree[1][1]\n",
    "    e_matrix[row][column] = matrix_degree[0][1]\n",
    "    e_matrix[column][row] = matrix_degree[1][0]\n",
    "\n",
    "    return e_matrix"
   ]
  },
  {
   "cell_type": "code",
   "execution_count": 5,
   "id": "d631fb5f",
   "metadata": {},
   "outputs": [],
   "source": [
    "i,j = np.indices(matrix.shape)\n",
    "def create_copy(past_arr):\n",
    "    copy_matrix = matrix.copy()\n",
    "    copy_matrix[copy_matrix < 0] *= -1\n",
    "    copy_matrix[i == j] = 0\n",
    "    \n",
    "    \n",
    "    return copy_matrix"
   ]
  },
  {
   "cell_type": "code",
   "execution_count": 6,
   "id": "add60596",
   "metadata": {},
   "outputs": [
    {
     "name": "stdout",
     "output_type": "stream",
     "text": [
      "\n",
      "[[-2.38516481e+00 -5.86380776e-01  3.92867726e-16]\n",
      " [-5.86380776e-01  3.00000000e+00  4.43352654e+00]\n",
      " [ 7.63135010e-16  4.43352654e+00  8.38516481e+00]]\\т\n",
      "\n",
      "[[-2.38516481e+00 -5.11041965e-01 -2.87538737e-01]\n",
      " [-5.11041965e-01  5.05467831e-01 -1.68358563e-16]\n",
      " [-2.87538737e-01 -3.93006099e-16  1.08796970e+01]]\\т\n",
      "\n",
      "[[-2.47285310e+00  1.19949737e-17 -2.83397085e-01]\n",
      " [-2.25882280e-17  5.93156128e-01  4.86273327e-02]\n",
      " [-2.83397085e-01  4.86273327e-02  1.08796970e+01]]\\т\n",
      "\n",
      "[[-2.47886527e+00  1.03137928e-03 -7.55989016e-17]\n",
      " [ 1.03137928e-03  5.93156128e-01  4.86163937e-02]\n",
      " [ 2.67481240e-16  4.86163937e-02  1.08857091e+01]]\\т\n",
      "\n",
      "[[-2.47886527e+00  1.03136777e-03  4.87150884e-06]\n",
      " [ 1.03136777e-03  5.92926496e-01  1.38936813e-19]\n",
      " [ 4.87150884e-06 -2.71984813e-16  1.08859388e+01]]\\т\n",
      "\n",
      "[[-2.47886562e+00  6.28832255e-21  4.87150856e-06]\n",
      " [-3.05454402e-17  5.92926842e-01  1.63563052e-09]\n",
      " [ 4.87150857e-06  1.63563025e-09  1.08859388e+01]]\\т\n"
     ]
    }
   ],
   "source": [
    "copy_matrix = create_copy(matrix)\n",
    "\n",
    "\n",
    "while copy_matrix.max() > e:\n",
    "    ind = np.unravel_index(np.argmax(copy_matrix), copy_matrix.shape)\n",
    "    degree = find_degree(matrix[ind[0]][ind[1]], matrix[ind[0]][ind[0]], matrix[ind[1]][ind[1]],)\n",
    "    \n",
    "    deg_arr = create_matrix_deegree(degree, ind)\n",
    "    matrix = np.dot(np.dot(deg_arr.transpose(), matrix), deg_arr)\n",
    "    copy_matrix = create_copy(matrix)\n",
    "    \n",
    "    print(f'\\n{matrix}\\n')"
   ]
  },
  {
   "cell_type": "markdown",
   "id": "c76836fb",
   "metadata": {},
   "source": [
    "#### Результат"
   ]
  },
  {
   "cell_type": "code",
   "execution_count": 9,
   "id": "94433efc",
   "metadata": {},
   "outputs": [
    {
     "name": "stdout",
     "output_type": "stream",
     "text": [
      "[[-2.47886562  0.          0.        ]\n",
      " [ 0.          0.59292684  0.        ]\n",
      " [ 0.          0.         10.88593877]]\n"
     ]
    }
   ],
   "source": [
    "matrix[i!=j] = 0\n",
    "print(matrix)"
   ]
  }
 ],
 "metadata": {
  "kernelspec": {
   "display_name": "Python 3 (ipykernel)",
   "language": "python",
   "name": "python3"
  },
  "language_info": {
   "codemirror_mode": {
    "name": "ipython",
    "version": 3
   },
   "file_extension": ".py",
   "mimetype": "text/x-python",
   "name": "python",
   "nbconvert_exporter": "python",
   "pygments_lexer": "ipython3",
   "version": "3.8.10"
  }
 },
 "nbformat": 4,
 "nbformat_minor": 5
}
