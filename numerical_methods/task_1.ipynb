{
 "cells": [
  {
   "cell_type": "markdown",
   "id": "1a3537de",
   "metadata": {},
   "source": [
    "# Здание №1"
   ]
  },
  {
   "cell_type": "code",
   "execution_count": 1,
   "id": "9ad67f21",
   "metadata": {},
   "outputs": [],
   "source": [
    "import pandas as pd\n",
    "import numpy as np\n",
    "from math import atan, pi"
   ]
  },
  {
   "cell_type": "markdown",
   "id": "3ead5b4c",
   "metadata": {},
   "source": [
    "# Численные методы\n",
    "### Метод половинного деления\n",
    "arctg(x) + 1/3 * x^3 =0"
   ]
  },
  {
   "cell_type": "markdown",
   "id": "1ba7424f",
   "metadata": {},
   "source": [
    "#### Для поиска корня нужно определить интервар [a,b], так , чтобы \"a\" и \"b\", были разного знака. Разноимённые знаки, говорят о том, что на этом интервале может быть корень этого уравнения. ###"
   ]
  },
  {
   "cell_type": "markdown",
   "id": "dd2877ab",
   "metadata": {},
   "source": [
    "На этом примере будем искать корень x = 0, за интервал возьмём a = - p/6; b = p/4  "
   ]
  },
  {
   "cell_type": "code",
   "execution_count": 2,
   "id": "83922f20",
   "metadata": {},
   "outputs": [],
   "source": [
    "a = - pi/6 #нижняя граница\n",
    "b = pi/4 #верхняя граница\n",
    "\n",
    "e = 0.001 #погрешность"
   ]
  },
  {
   "cell_type": "code",
   "execution_count": 3,
   "id": "5c99f681",
   "metadata": {},
   "outputs": [],
   "source": [
    "res_table =  pd.DataFrame(columns = ['нижняя граница',\n",
    "                                     'верхняя граница',\n",
    "                                     'новая граница',\n",
    "                                     'b * n'])\n"
   ]
  },
  {
   "cell_type": "code",
   "execution_count": 4,
   "id": "b4ae1bdc",
   "metadata": {},
   "outputs": [],
   "source": [
    "def myfun(x: float):\n",
    "    result = atan(x) + 1/3 * x ** 3 #заданая функция \n",
    "    print(f'#{res_table.shape[0] + 1}', f'{result}\\n')\n",
    "    return result\n",
    "\n",
    "def add_info_table(a, b, c , multi):\n",
    "    res_table.loc[len(res_table.index)] = [a, b, c, multi]\n",
    "    "
   ]
  },
  {
   "cell_type": "code",
   "execution_count": 5,
   "id": "ee6268a8",
   "metadata": {},
   "outputs": [
    {
     "name": "stdout",
     "output_type": "stream",
     "text": [
      "#1 0.8272647744049153\n",
      "\n",
      "#1 0.13090728746437785\n",
      "\n",
      "\n",
      "\n",
      "\n",
      "#2 0.13090728746437785\n",
      "\n",
      "#2 -0.19640634884476815\n",
      "\n",
      "\n",
      "\n",
      "\n",
      "#3 0.13090728746437785\n",
      "\n",
      "#3 -0.0327249309754095\n",
      "\n",
      "\n",
      "\n",
      "\n",
      "#4 0.13090728746437785\n",
      "\n",
      "#4 0.049087442115027156\n",
      "\n",
      "\n",
      "\n",
      "\n",
      "#5 0.049087442115027156\n",
      "\n",
      "#5 0.008181230876053415\n",
      "\n",
      "\n",
      "\n",
      "\n",
      "#6 0.008181230876053415\n",
      "\n",
      "#6 -0.012271846358743775\n",
      "\n",
      "\n",
      "\n",
      "\n",
      "#7 0.008181230876053415\n",
      "\n",
      "#7 -0.002045307717187991\n",
      "\n",
      "\n",
      "\n",
      "\n",
      "#8 0.008181230876053415\n",
      "\n",
      "#8 0.0030679615758256638\n",
      "\n",
      "\n",
      "\n",
      "\n",
      "#9 0.0030679615758256638\n",
      "\n",
      "#9 0.0005113269292952429\n",
      "\n",
      "\n",
      "\n",
      "\n",
      "#10 0.0005113269292952429\n",
      "\n",
      "#10 -0.0007669903939428515\n",
      "\n",
      "\n",
      "\n",
      "\n",
      "#11 0.0005113269292952429\n",
      "\n",
      "#11 -0.00012783173232378125\n",
      "\n",
      "\n",
      "\n",
      "\n"
     ]
    }
   ],
   "source": [
    "while abs(b - a) > e:\n",
    "    n_edge = (a + b) / 2 #новая граница\n",
    "    if myfun(b) * myfun(n_edge) < 0:\n",
    "        a = n_edge\n",
    "    else:\n",
    "        b = n_edge\n",
    "    print('\\n\\n')\n",
    "    add_info_table(a, b, n_edge, b * a)"
   ]
  },
  {
   "cell_type": "code",
   "execution_count": 6,
   "id": "1709397d",
   "metadata": {},
   "outputs": [
    {
     "data": {
      "text/html": [
       "<div>\n",
       "<style scoped>\n",
       "    .dataframe tbody tr th:only-of-type {\n",
       "        vertical-align: middle;\n",
       "    }\n",
       "\n",
       "    .dataframe tbody tr th {\n",
       "        vertical-align: top;\n",
       "    }\n",
       "\n",
       "    .dataframe thead th {\n",
       "        text-align: right;\n",
       "    }\n",
       "</style>\n",
       "<table border=\"1\" class=\"dataframe\">\n",
       "  <thead>\n",
       "    <tr style=\"text-align: right;\">\n",
       "      <th></th>\n",
       "      <th>нижняя граница</th>\n",
       "      <th>верхняя граница</th>\n",
       "      <th>новая граница</th>\n",
       "      <th>b * n</th>\n",
       "    </tr>\n",
       "  </thead>\n",
       "  <tbody>\n",
       "    <tr>\n",
       "      <th>0</th>\n",
       "      <td>-0.523599</td>\n",
       "      <td>0.130900</td>\n",
       "      <td>0.130900</td>\n",
       "      <td>-6.853892e-02</td>\n",
       "    </tr>\n",
       "    <tr>\n",
       "      <th>1</th>\n",
       "      <td>-0.196350</td>\n",
       "      <td>0.130900</td>\n",
       "      <td>-0.196350</td>\n",
       "      <td>-2.570209e-02</td>\n",
       "    </tr>\n",
       "    <tr>\n",
       "      <th>2</th>\n",
       "      <td>-0.032725</td>\n",
       "      <td>0.130900</td>\n",
       "      <td>-0.032725</td>\n",
       "      <td>-4.283682e-03</td>\n",
       "    </tr>\n",
       "    <tr>\n",
       "      <th>3</th>\n",
       "      <td>-0.032725</td>\n",
       "      <td>0.049087</td>\n",
       "      <td>0.049087</td>\n",
       "      <td>-1.606381e-03</td>\n",
       "    </tr>\n",
       "    <tr>\n",
       "      <th>4</th>\n",
       "      <td>-0.032725</td>\n",
       "      <td>0.008181</td>\n",
       "      <td>0.008181</td>\n",
       "      <td>-2.677302e-04</td>\n",
       "    </tr>\n",
       "    <tr>\n",
       "      <th>5</th>\n",
       "      <td>-0.012272</td>\n",
       "      <td>0.008181</td>\n",
       "      <td>-0.012272</td>\n",
       "      <td>-1.003988e-04</td>\n",
       "    </tr>\n",
       "    <tr>\n",
       "      <th>6</th>\n",
       "      <td>-0.002045</td>\n",
       "      <td>0.008181</td>\n",
       "      <td>-0.002045</td>\n",
       "      <td>-1.673313e-05</td>\n",
       "    </tr>\n",
       "    <tr>\n",
       "      <th>7</th>\n",
       "      <td>-0.002045</td>\n",
       "      <td>0.003068</td>\n",
       "      <td>0.003068</td>\n",
       "      <td>-6.274925e-06</td>\n",
       "    </tr>\n",
       "    <tr>\n",
       "      <th>8</th>\n",
       "      <td>-0.002045</td>\n",
       "      <td>0.000511</td>\n",
       "      <td>0.000511</td>\n",
       "      <td>-1.045821e-06</td>\n",
       "    </tr>\n",
       "    <tr>\n",
       "      <th>9</th>\n",
       "      <td>-0.000767</td>\n",
       "      <td>0.000511</td>\n",
       "      <td>-0.000767</td>\n",
       "      <td>-3.921828e-07</td>\n",
       "    </tr>\n",
       "    <tr>\n",
       "      <th>10</th>\n",
       "      <td>-0.000128</td>\n",
       "      <td>0.000511</td>\n",
       "      <td>-0.000128</td>\n",
       "      <td>-6.536381e-08</td>\n",
       "    </tr>\n",
       "  </tbody>\n",
       "</table>\n",
       "</div>"
      ],
      "text/plain": [
       "    нижняя граница  верхняя граница  новая граница         b * n\n",
       "0        -0.523599         0.130900       0.130900 -6.853892e-02\n",
       "1        -0.196350         0.130900      -0.196350 -2.570209e-02\n",
       "2        -0.032725         0.130900      -0.032725 -4.283682e-03\n",
       "3        -0.032725         0.049087       0.049087 -1.606381e-03\n",
       "4        -0.032725         0.008181       0.008181 -2.677302e-04\n",
       "5        -0.012272         0.008181      -0.012272 -1.003988e-04\n",
       "6        -0.002045         0.008181      -0.002045 -1.673313e-05\n",
       "7        -0.002045         0.003068       0.003068 -6.274925e-06\n",
       "8        -0.002045         0.000511       0.000511 -1.045821e-06\n",
       "9        -0.000767         0.000511      -0.000767 -3.921828e-07\n",
       "10       -0.000128         0.000511      -0.000128 -6.536381e-08"
      ]
     },
     "execution_count": 6,
     "metadata": {},
     "output_type": "execute_result"
    }
   ],
   "source": [
    "res_table #Результат прогонки"
   ]
  },
  {
   "cell_type": "code",
   "execution_count": 7,
   "id": "eb0c9bb3",
   "metadata": {},
   "outputs": [
    {
     "name": "stdout",
     "output_type": "stream",
     "text": [
      "0.00019174759848572735\n"
     ]
    }
   ],
   "source": [
    "print((a + b)/2) #Результат"
   ]
  }
 ],
 "metadata": {
  "kernelspec": {
   "display_name": "Python 3 (ipykernel)",
   "language": "python",
   "name": "python3"
  },
  "language_info": {
   "codemirror_mode": {
    "name": "ipython",
    "version": 3
   },
   "file_extension": ".py",
   "mimetype": "text/x-python",
   "name": "python",
   "nbconvert_exporter": "python",
   "pygments_lexer": "ipython3",
   "version": "3.8.10"
  }
 },
 "nbformat": 4,
 "nbformat_minor": 5
}
