{
 "cells": [
  {
   "cell_type": "markdown",
   "metadata": {
    "pycharm": {
     "name": "#%% md\n"
    }
   },
   "source": [
    "# Задание 8. \n",
    "##### Вычислить определённый интеграл с точностью $ε = 0,01$ методом Симпсона."
   ]
  },
  {
   "cell_type": "code",
   "execution_count": 31,
   "metadata": {
    "collapsed": true,
    "pycharm": {
     "name": "#%%\n"
    }
   },
   "outputs": [],
   "source": [
    "import sympy"
   ]
  },
  {
   "cell_type": "code",
   "execution_count": 32,
   "metadata": {
    "pycharm": {
     "name": "#%%\n"
    }
   },
   "outputs": [
    {
     "name": "stdout",
     "output_type": "stream",
     "text": [
      "6.832098151181166\n",
      "9.13944819154547\n",
      "13.685805424307656\n",
      "15.921408983422861\n",
      "20.31098999623865\n",
      "22.461889972550598\n",
      "26.67006574828479\n",
      "28.724571729758644\n",
      "32.72917604027261\n"
     ]
    },
    {
     "data": {
      "text/plain": [
       "0.43638901387030143"
      ]
     },
     "execution_count": 32,
     "metadata": {},
     "output_type": "execute_result"
    }
   ],
   "source": [
    "x = sympy.Symbol('x')\n",
    "\n",
    "# f_x = abs(x - sqrt(x**2 + x**4))\n",
    "f_x = (sympy.sin(x) + x) / (sympy.tan(sympy.sqrt(x)))\n",
    "\n",
    "def sympson(left, right, n, function):\n",
    "    h = (right - left) / (2 * n)\n",
    "\n",
    "    tmp_sum = float(function.subs({x: left})) +\\\n",
    "        float(function.subs({x: right}))\n",
    "\n",
    "    for step in range(1, 2 * n):\n",
    "        if step % 2 != 0:\n",
    "            tmp_sum += 4 * float(function.subs({x: left + step * h}))\n",
    "        else:\n",
    "            tmp_sum += 2 * float(function.subs({x: left + step * h}))\n",
    "        print(tmp_sum)\n",
    "\n",
    "    return tmp_sum * h / 3\n",
    "\n",
    "\n",
    "sympson(1, 1.4, 5, f_x) # 1 и 2 значения - границы a и b"
   ]
  }
 ],
 "metadata": {
  "kernelspec": {
   "display_name": "Python 3 (ipykernel)",
   "language": "python",
   "name": "python3"
  },
  "language_info": {
   "codemirror_mode": {
    "name": "ipython",
    "version": 3
   },
   "file_extension": ".py",
   "mimetype": "text/x-python",
   "name": "python",
   "nbconvert_exporter": "python",
   "pygments_lexer": "ipython3",
   "version": "3.8.10"
  }
 },
 "nbformat": 4,
 "nbformat_minor": 1
}
