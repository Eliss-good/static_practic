{
 "cells": [
  {
   "cell_type": "code",
   "execution_count": 166,
   "id": "b3df5921",
   "metadata": {},
   "outputs": [
    {
     "data": {
      "text/plain": [
       "{'divide': 'ignore', 'over': 'warn', 'under': 'ignore', 'invalid': 'ignore'}"
      ]
     },
     "execution_count": 166,
     "metadata": {},
     "output_type": "execute_result"
    }
   ],
   "source": [
    "import pandas as pd\n",
    "import numpy as np\n",
    "np.seterr(divide='ignore', invalid='ignore')"
   ]
  },
  {
   "cell_type": "code",
   "execution_count": 167,
   "id": "cb82631c",
   "metadata": {},
   "outputs": [],
   "source": [
    "e_arr = np.array([[0, 0.3, -0.1, 0.2, -1],\n",
    "                  [0.2, 0, 0.1, -0.2 , -4],\n",
    "                  [0.3, -0.1, 0, 0.3, 2], \n",
    "                  [0.3, 0, -0.2, 0, 0.1]])\n",
    "\n",
    "e = 0.001"
   ]
  },
  {
   "cell_type": "markdown",
   "id": "07c21111",
   "metadata": {},
   "source": [
    "### Метод простой итерации"
   ]
  },
  {
   "cell_type": "code",
   "execution_count": 168,
   "id": "ab0340c8",
   "metadata": {},
   "outputs": [],
   "source": [
    "res_table = res_table =  pd.DataFrame(columns = ['x1',\n",
    "                                     'x2',\n",
    "                                     'x3',\n",
    "                                     'x4',\n",
    "                                     'погрешность_x1',\n",
    "                                     'погрешность_x2',\n",
    "                                     'погрешность_x3',\n",
    "                                     'погрешность_x4'])"
   ]
  },
  {
   "cell_type": "code",
   "execution_count": 169,
   "id": "8a10b138",
   "metadata": {
    "scrolled": true
   },
   "outputs": [],
   "source": [
    "sim_data = e_arr.copy()\n",
    "row, column = sim_data.shape"
   ]
  },
  {
   "cell_type": "code",
   "execution_count": 170,
   "id": "8a64fe1e",
   "metadata": {},
   "outputs": [
    {
     "name": "stdout",
     "output_type": "stream",
     "text": [
      "[[ 0.   0.3 -0.1  0.2]\n",
      " [ 0.2  0.   0.1 -0.2]\n",
      " [ 0.3 -0.1  0.   0.3]\n",
      " [ 0.3  0.  -0.2  0. ]] [-1.  -4.   2.   0.1]\n"
     ]
    }
   ],
   "source": [
    "change_etin = sim_data[0:4, 0:4]\n",
    "free_stolb = sim_data[:, 4:5].ravel().copy()\n",
    "\n",
    "print(change_etin, free_stolb)"
   ]
  },
  {
   "cell_type": "code",
   "execution_count": 171,
   "id": "20a3db55",
   "metadata": {},
   "outputs": [],
   "source": [
    "def add_info_table(new_data):\n",
    "    res_table.loc[len(res_table.index)] = new_data"
   ]
  },
  {
   "cell_type": "code",
   "execution_count": 172,
   "id": "402cb85c",
   "metadata": {},
   "outputs": [],
   "source": [
    "def error_rate(new_iter, past_iter):\n",
    "    res = abs(new_iter - past_iter) / new_iter\n",
    "    if abs(res.max()) < e and abs(res.min()) < e:\n",
    "        return False\n",
    "    \n",
    "    union_for_table = np.hstack((new_iter, res)).copy()\n",
    "    add_info_table(union_for_table)\n",
    "    return True"
   ]
  },
  {
   "cell_type": "code",
   "execution_count": 173,
   "id": "18eb58e4",
   "metadata": {},
   "outputs": [],
   "source": [
    "def create_new_iter(past_iter):\n",
    "    \"\"\"past_iter = [x0, y0, z0, p0] / res_iter = [x1, y1, z1, p1]\"\"\"\n",
    "    res_iter = np.array([])\n",
    "    for i_row in range(0, change_etin.shape[0]):\n",
    "        new_item = 0\n",
    "        for i_column in range(0, change_etin.shape[1]):\n",
    "            new_item += (change_etin[i_row][i_column] * past_iter[i_column])\n",
    "        \n",
    "        new_item = new_item + free_stolb[i_row]\n",
    "        res_iter = np.append(res_iter, new_item)\n",
    "\n",
    "    return error_rate(res_iter, past_iter)"
   ]
  },
  {
   "cell_type": "code",
   "execution_count": 174,
   "id": "83f18a19",
   "metadata": {},
   "outputs": [],
   "source": [
    "status = True\n",
    "past_data = np.array([0,0,0,0]) \n",
    "\n",
    "while status:\n",
    "    status = create_new_iter(past_data)\n",
    "    l_iter = res_table.iloc[-1]\n",
    "    past_data = np.array([l_iter.x1, l_iter.x2, l_iter.x3, l_iter.x4])"
   ]
  },
  {
   "cell_type": "code",
   "execution_count": 175,
   "id": "b579ee34",
   "metadata": {
    "scrolled": true
   },
   "outputs": [
    {
     "data": {
      "text/html": [
       "<div>\n",
       "<style scoped>\n",
       "    .dataframe tbody tr th:only-of-type {\n",
       "        vertical-align: middle;\n",
       "    }\n",
       "\n",
       "    .dataframe tbody tr th {\n",
       "        vertical-align: top;\n",
       "    }\n",
       "\n",
       "    .dataframe thead th {\n",
       "        text-align: right;\n",
       "    }\n",
       "</style>\n",
       "<table border=\"1\" class=\"dataframe\">\n",
       "  <thead>\n",
       "    <tr style=\"text-align: right;\">\n",
       "      <th></th>\n",
       "      <th>x1</th>\n",
       "      <th>x2</th>\n",
       "      <th>x3</th>\n",
       "      <th>x4</th>\n",
       "      <th>погрешность_x1</th>\n",
       "      <th>погрешность_x2</th>\n",
       "      <th>погрешность_x3</th>\n",
       "      <th>погрешность_x4</th>\n",
       "    </tr>\n",
       "  </thead>\n",
       "  <tbody>\n",
       "    <tr>\n",
       "      <th>0</th>\n",
       "      <td>-1.000000</td>\n",
       "      <td>-4.000000</td>\n",
       "      <td>2.000000</td>\n",
       "      <td>0.100000</td>\n",
       "      <td>-1.000000</td>\n",
       "      <td>-1.000000</td>\n",
       "      <td>1.000000</td>\n",
       "      <td>1.000000</td>\n",
       "    </tr>\n",
       "    <tr>\n",
       "      <th>1</th>\n",
       "      <td>-2.380000</td>\n",
       "      <td>-4.020000</td>\n",
       "      <td>2.130000</td>\n",
       "      <td>-0.600000</td>\n",
       "      <td>-0.579832</td>\n",
       "      <td>-0.004975</td>\n",
       "      <td>0.061033</td>\n",
       "      <td>-1.166667</td>\n",
       "    </tr>\n",
       "    <tr>\n",
       "      <th>2</th>\n",
       "      <td>-2.539000</td>\n",
       "      <td>-4.143000</td>\n",
       "      <td>1.508000</td>\n",
       "      <td>-1.040000</td>\n",
       "      <td>-0.062623</td>\n",
       "      <td>-0.029689</td>\n",
       "      <td>0.412467</td>\n",
       "      <td>-0.423077</td>\n",
       "    </tr>\n",
       "    <tr>\n",
       "      <th>3</th>\n",
       "      <td>-2.601700</td>\n",
       "      <td>-4.149000</td>\n",
       "      <td>1.340600</td>\n",
       "      <td>-0.963300</td>\n",
       "      <td>-0.024100</td>\n",
       "      <td>-0.001446</td>\n",
       "      <td>0.124869</td>\n",
       "      <td>-0.079622</td>\n",
       "    </tr>\n",
       "    <tr>\n",
       "      <th>4</th>\n",
       "      <td>-2.571420</td>\n",
       "      <td>-4.193620</td>\n",
       "      <td>1.345400</td>\n",
       "      <td>-0.948630</td>\n",
       "      <td>-0.011776</td>\n",
       "      <td>-0.010640</td>\n",
       "      <td>0.003568</td>\n",
       "      <td>-0.015464</td>\n",
       "    </tr>\n",
       "    <tr>\n",
       "      <th>5</th>\n",
       "      <td>-2.582352</td>\n",
       "      <td>-4.190018</td>\n",
       "      <td>1.363347</td>\n",
       "      <td>-0.940506</td>\n",
       "      <td>-0.004233</td>\n",
       "      <td>-0.000860</td>\n",
       "      <td>0.013164</td>\n",
       "      <td>-0.008638</td>\n",
       "    </tr>\n",
       "    <tr>\n",
       "      <th>6</th>\n",
       "      <td>-2.581441</td>\n",
       "      <td>-4.192035</td>\n",
       "      <td>1.362144</td>\n",
       "      <td>-0.947375</td>\n",
       "      <td>-0.000353</td>\n",
       "      <td>-0.000481</td>\n",
       "      <td>0.000883</td>\n",
       "      <td>-0.007251</td>\n",
       "    </tr>\n",
       "    <tr>\n",
       "      <th>7</th>\n",
       "      <td>-2.583300</td>\n",
       "      <td>-4.190599</td>\n",
       "      <td>1.360559</td>\n",
       "      <td>-0.946861</td>\n",
       "      <td>-0.000719</td>\n",
       "      <td>-0.000343</td>\n",
       "      <td>0.001166</td>\n",
       "      <td>-0.000543</td>\n",
       "    </tr>\n",
       "  </tbody>\n",
       "</table>\n",
       "</div>"
      ],
      "text/plain": [
       "         x1        x2        x3        x4  погрешность_x1  погрешность_x2  \\\n",
       "0 -1.000000 -4.000000  2.000000  0.100000       -1.000000       -1.000000   \n",
       "1 -2.380000 -4.020000  2.130000 -0.600000       -0.579832       -0.004975   \n",
       "2 -2.539000 -4.143000  1.508000 -1.040000       -0.062623       -0.029689   \n",
       "3 -2.601700 -4.149000  1.340600 -0.963300       -0.024100       -0.001446   \n",
       "4 -2.571420 -4.193620  1.345400 -0.948630       -0.011776       -0.010640   \n",
       "5 -2.582352 -4.190018  1.363347 -0.940506       -0.004233       -0.000860   \n",
       "6 -2.581441 -4.192035  1.362144 -0.947375       -0.000353       -0.000481   \n",
       "7 -2.583300 -4.190599  1.360559 -0.946861       -0.000719       -0.000343   \n",
       "\n",
       "   погрешность_x3  погрешность_x4  \n",
       "0        1.000000        1.000000  \n",
       "1        0.061033       -1.166667  \n",
       "2        0.412467       -0.423077  \n",
       "3        0.124869       -0.079622  \n",
       "4        0.003568       -0.015464  \n",
       "5        0.013164       -0.008638  \n",
       "6        0.000883       -0.007251  \n",
       "7        0.001166       -0.000543  "
      ]
     },
     "execution_count": 175,
     "metadata": {},
     "output_type": "execute_result"
    }
   ],
   "source": [
    "res_table"
   ]
  },
  {
   "cell_type": "code",
   "execution_count": 176,
   "id": "7ea58f99",
   "metadata": {
    "scrolled": true
   },
   "outputs": [],
   "source": [
    "res_table = res_table.drop([i for i in range(0,res_table.shape[0])])"
   ]
  },
  {
   "cell_type": "markdown",
   "id": "4d14d0a7",
   "metadata": {},
   "source": [
    "### Метод Зейделя"
   ]
  },
  {
   "cell_type": "code",
   "execution_count": 177,
   "id": "d469441f",
   "metadata": {},
   "outputs": [],
   "source": [
    "def create_new_iter_zel(past_iter):\n",
    "    new_iter = past_iter.copy()\n",
    "    for i_row in range(0, change_etin.shape[0]):\n",
    "        new_item = 0\n",
    "        for i_column in range(0, change_etin.shape[1]):\n",
    "            \n",
    "            new_item += (change_etin[i_row][i_column] * new_iter[i_column])\n",
    "        \n",
    "        new_item = new_item + free_stolb[i_row]\n",
    "        new_iter[i_row] = new_item\n",
    "        \n",
    "    return error_rate(new_iter, past_iter)"
   ]
  },
  {
   "cell_type": "code",
   "execution_count": 178,
   "id": "87b8de61",
   "metadata": {},
   "outputs": [],
   "source": [
    "status = True\n",
    "past_data = np.array([0,0,0,0]) \n",
    "\n",
    "while status:\n",
    "    status = create_new_iter_zel(past_data)\n",
    "    l_iter = res_table.iloc[-1]\n",
    "    past_data = np.array([l_iter.x1, l_iter.x2, l_iter.x3, l_iter.x4])"
   ]
  },
  {
   "cell_type": "code",
   "execution_count": 179,
   "id": "c0da5366",
   "metadata": {},
   "outputs": [
    {
     "data": {
      "text/html": [
       "<div>\n",
       "<style scoped>\n",
       "    .dataframe tbody tr th:only-of-type {\n",
       "        vertical-align: middle;\n",
       "    }\n",
       "\n",
       "    .dataframe tbody tr th {\n",
       "        vertical-align: top;\n",
       "    }\n",
       "\n",
       "    .dataframe thead th {\n",
       "        text-align: right;\n",
       "    }\n",
       "</style>\n",
       "<table border=\"1\" class=\"dataframe\">\n",
       "  <thead>\n",
       "    <tr style=\"text-align: right;\">\n",
       "      <th></th>\n",
       "      <th>x1</th>\n",
       "      <th>x2</th>\n",
       "      <th>x3</th>\n",
       "      <th>x4</th>\n",
       "      <th>погрешность_x1</th>\n",
       "      <th>погрешность_x2</th>\n",
       "      <th>погрешность_x3</th>\n",
       "      <th>погрешность_x4</th>\n",
       "    </tr>\n",
       "  </thead>\n",
       "  <tbody>\n",
       "    <tr>\n",
       "      <th>0</th>\n",
       "      <td>-1.000000</td>\n",
       "      <td>-4.000000</td>\n",
       "      <td>2.000000</td>\n",
       "      <td>0.000000</td>\n",
       "      <td>-1.000000</td>\n",
       "      <td>-1.000000</td>\n",
       "      <td>1.000000</td>\n",
       "      <td>NaN</td>\n",
       "    </tr>\n",
       "    <tr>\n",
       "      <th>1</th>\n",
       "      <td>-2.400000</td>\n",
       "      <td>-4.280000</td>\n",
       "      <td>1.708000</td>\n",
       "      <td>-0.961600</td>\n",
       "      <td>-0.583333</td>\n",
       "      <td>-0.065421</td>\n",
       "      <td>0.170960</td>\n",
       "      <td>-1.000000</td>\n",
       "    </tr>\n",
       "    <tr>\n",
       "      <th>2</th>\n",
       "      <td>-2.647120</td>\n",
       "      <td>-4.166304</td>\n",
       "      <td>1.334014</td>\n",
       "      <td>-0.960939</td>\n",
       "      <td>-0.093354</td>\n",
       "      <td>-0.027289</td>\n",
       "      <td>0.280346</td>\n",
       "      <td>-0.000688</td>\n",
       "    </tr>\n",
       "    <tr>\n",
       "      <th>3</th>\n",
       "      <td>-2.575480</td>\n",
       "      <td>-4.189507</td>\n",
       "      <td>1.358025</td>\n",
       "      <td>-0.944249</td>\n",
       "      <td>-0.027816</td>\n",
       "      <td>-0.005538</td>\n",
       "      <td>0.017680</td>\n",
       "      <td>-0.017675</td>\n",
       "    </tr>\n",
       "    <tr>\n",
       "      <th>4</th>\n",
       "      <td>-2.581504</td>\n",
       "      <td>-4.191649</td>\n",
       "      <td>1.361439</td>\n",
       "      <td>-0.946739</td>\n",
       "      <td>-0.002334</td>\n",
       "      <td>-0.000511</td>\n",
       "      <td>0.002508</td>\n",
       "      <td>-0.002630</td>\n",
       "    </tr>\n",
       "  </tbody>\n",
       "</table>\n",
       "</div>"
      ],
      "text/plain": [
       "         x1        x2        x3        x4  погрешность_x1  погрешность_x2  \\\n",
       "0 -1.000000 -4.000000  2.000000  0.000000       -1.000000       -1.000000   \n",
       "1 -2.400000 -4.280000  1.708000 -0.961600       -0.583333       -0.065421   \n",
       "2 -2.647120 -4.166304  1.334014 -0.960939       -0.093354       -0.027289   \n",
       "3 -2.575480 -4.189507  1.358025 -0.944249       -0.027816       -0.005538   \n",
       "4 -2.581504 -4.191649  1.361439 -0.946739       -0.002334       -0.000511   \n",
       "\n",
       "   погрешность_x3  погрешность_x4  \n",
       "0        1.000000             NaN  \n",
       "1        0.170960       -1.000000  \n",
       "2        0.280346       -0.000688  \n",
       "3        0.017680       -0.017675  \n",
       "4        0.002508       -0.002630  "
      ]
     },
     "execution_count": 179,
     "metadata": {},
     "output_type": "execute_result"
    }
   ],
   "source": [
    "res_table"
   ]
  },
  {
   "cell_type": "code",
   "execution_count": null,
   "id": "1ea5f917",
   "metadata": {},
   "outputs": [],
   "source": []
  }
 ],
 "metadata": {
  "kernelspec": {
   "display_name": "Python 3 (ipykernel)",
   "language": "python",
   "name": "python3"
  },
  "language_info": {
   "codemirror_mode": {
    "name": "ipython",
    "version": 3
   },
   "file_extension": ".py",
   "mimetype": "text/x-python",
   "name": "python",
   "nbconvert_exporter": "python",
   "pygments_lexer": "ipython3",
   "version": "3.8.10"
  }
 },
 "nbformat": 4,
 "nbformat_minor": 5
}
