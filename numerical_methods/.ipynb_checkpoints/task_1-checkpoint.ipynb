{
 "cells": [
  {
   "cell_type": "code",
   "execution_count": 2,
   "id": "967087a0",
   "metadata": {},
   "outputs": [],
   "source": [
    "import pandas as pd\n",
    "import numpy as np\n",
    "from math import atan, pi"
   ]
  },
  {
   "cell_type": "markdown",
   "id": "3ead5b4c",
   "metadata": {},
   "source": [
    "# Численные методы\n",
    "### Метод половинного деления\n",
    "arctg(x) + 1/3 * x^3 =0"
   ]
  },
  {
   "cell_type": "markdown",
   "id": "1ba7424f",
   "metadata": {},
   "source": [
    "Для поиска корня нужно определить интервар [a,b], так , чтобы \"a\" и \"b\", были разного знака. Разноимённые знаки, говорят о том, что на этом интервале может быть корень этого уравнения."
   ]
  },
  {
   "cell_type": "markdown",
   "id": "dd2877ab",
   "metadata": {},
   "source": [
    "На этом примере будем искать корень x = 0, за интервал возьмём a = - p/6; b = p/4  "
   ]
  },
  {
   "cell_type": "code",
   "execution_count": 3,
   "id": "83922f20",
   "metadata": {},
   "outputs": [],
   "source": [
    "a = - pi/6 #нижняя граница\n",
    "b = pi/4 #верхняя граница\n",
    "\n",
    "e = 0.001"
   ]
  },
  {
   "cell_type": "code",
   "execution_count": 4,
   "id": "5c99f681",
   "metadata": {},
   "outputs": [],
   "source": [
    "res_table =  pd.DataFrame(columns = ['t',\n",
    "                                     'нижняя граница',\n",
    "                                     'новая граница',\n",
    "                                     'b * n'])\n"
   ]
  },
  {
   "cell_type": "code",
   "execution_count": 5,
   "id": "b4ae1bdc",
   "metadata": {},
   "outputs": [],
   "source": [
    "def myfun(x: float):\n",
    "    return atan(x) + 1/3 * x ** 3 #заданая функция \n",
    "\n",
    "def add_info_table(a, b, c , multi):\n",
    "    res_table.loc[len(res_table.index)] = [a, b, c, multi]\n",
    "    "
   ]
  },
  {
   "cell_type": "code",
   "execution_count": 6,
   "id": "ee6268a8",
   "metadata": {},
   "outputs": [],
   "source": [
    "while abs(b - a) > e:\n",
    "    n_edge = (a + b) / 2 #новая граница\n",
    "    if myfun(b) * myfun(n_edge) < 0:\n",
    "        a = n_edge\n",
    "    else:\n",
    "        b = n_edge\n",
    "    add_info_table(a, b, n_edge, b * a)"
   ]
  },
  {
   "cell_type": "code",
   "execution_count": 11,
   "id": "1709397d",
   "metadata": {},
   "outputs": [
    {
     "ename": "SyntaxError",
     "evalue": "invalid syntax (2098357262.py, line 1)",
     "output_type": "error",
     "traceback": [
      "\u001b[0;36m  Input \u001b[0;32mIn [11]\u001b[0;36m\u001b[0m\n\u001b[0;31m    print(res_table.iloc[-1].['b * n'])\u001b[0m\n\u001b[0m                             ^\u001b[0m\n\u001b[0;31mSyntaxError\u001b[0m\u001b[0;31m:\u001b[0m invalid syntax\n"
     ]
    }
   ],
   "source": [
    "print(res_table.iloc[-1].'b * n')"
   ]
  },
  {
   "cell_type": "code",
   "execution_count": 23,
   "id": "eb0c9bb3",
   "metadata": {},
   "outputs": [
    {
     "name": "stdout",
     "output_type": "stream",
     "text": [
      "0.00019174759848572735\n"
     ]
    }
   ],
   "source": [
    "print((a + b)/2) #Результат"
   ]
  }
 ],
 "metadata": {
  "kernelspec": {
   "display_name": "Python 3 (ipykernel)",
   "language": "python",
   "name": "python3"
  },
  "language_info": {
   "codemirror_mode": {
    "name": "ipython",
    "version": 3
   },
   "file_extension": ".py",
   "mimetype": "text/x-python",
   "name": "python",
   "nbconvert_exporter": "python",
   "pygments_lexer": "ipython3",
   "version": "3.8.10"
  }
 },
 "nbformat": 4,
 "nbformat_minor": 5
}
