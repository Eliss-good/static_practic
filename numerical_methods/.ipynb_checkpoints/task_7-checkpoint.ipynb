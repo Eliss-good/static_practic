{
 "cells": [
  {
   "cell_type": "code",
   "execution_count": 134,
   "id": "06a7db5c-98c4-4d1f-a89a-4f4015f30f50",
   "metadata": {},
   "outputs": [],
   "source": [
    "import numpy as np\n",
    "import pandas as pd"
   ]
  },
  {
   "cell_type": "markdown",
   "id": "d5d942a3-5c2f-49a9-ba3f-642e72ed85f6",
   "metadata": {},
   "source": [
    "# Метод Ньютона"
   ]
  },
  {
   "cell_type": "code",
   "execution_count": 135,
   "id": "0a9db678-dcf5-4c7c-ad97-bc137664a3b9",
   "metadata": {},
   "outputs": [],
   "source": [
    "\n",
    "x_arr = np.array([1, 1.2, 1.4, 1.6, 1.8, 2])\n",
    "y_arr = np.array([0.8, 2, 2.9, 4.2, 5.2, 5.8])\n",
    "\n",
    "find_fx = np.array([1.1, 2.1])\n"
   ]
  },
  {
   "cell_type": "code",
   "execution_count": 136,
   "id": "b10596a0-fb68-4a4f-86a4-376a0c7c3019",
   "metadata": {},
   "outputs": [],
   "source": [
    "def raznos(this_iter, max_iter):\n",
    "    new_arr = x_arr[this_iter]- np.delete(x_arr[:max_iter + 1].copy(), this_iter)\n",
    "    return y_arr[this_iter]/np.prod(new_arr)"
   ]
  },
  {
   "cell_type": "code",
   "execution_count": 137,
   "id": "0b09d3bf-7369-4c29-b64c-5802a4d1b482",
   "metadata": {},
   "outputs": [],
   "source": [
    "def create_new_iter(c_new_iter):\n",
    "    coef = 0\n",
    "    for i in range(c_new_iter+1):\n",
    "        coef += raznos(i, c_new_iter)\n",
    "    return coef"
   ]
  },
  {
   "cell_type": "code",
   "execution_count": 138,
   "id": "b691593d-125b-402f-b859-7d44404325cc",
   "metadata": {},
   "outputs": [],
   "source": [
    "def find_y(new_x):\n",
    "    result = y_arr[0]\n",
    "    \n",
    "    for i in range (1, len(x_arr)):\n",
    "        coef = create_new_iter(i)\n",
    "        multiplex = (new_x - x_arr[:i].copy())\n",
    "        \n",
    "        result += coef*(np.prod(multiplex))\n",
    "    \n",
    "    return result"
   ]
  },
  {
   "cell_type": "code",
   "execution_count": 139,
   "id": "9df7a0a6-47e2-411c-8e8f-a5be84318d45",
   "metadata": {},
   "outputs": [
    {
     "name": "stdout",
     "output_type": "stream",
     "text": [
      "1.5906250000000006 6.57500000000004\n"
     ]
    }
   ],
   "source": [
    "print(find_y(1.1), find_y(2.1))"
   ]
  },
  {
   "cell_type": "markdown",
   "id": "577322dd-aec4-4555-8550-4c6b7e12bec6",
   "metadata": {},
   "source": [
    "# Метод Лагранжа"
   ]
  },
  {
   "cell_type": "code",
   "execution_count": 140,
   "id": "05fbd485-b883-4784-928f-19f1fc3596ae",
   "metadata": {},
   "outputs": [],
   "source": [
    "\n",
    "x_arr = np.array([0, 1, 3, 5])\n",
    "y_arr = np.array([11, 12, 13, 14])\n"
   ]
  },
  {
   "cell_type": "code",
   "execution_count": 143,
   "id": "a0ec2fe5-7b15-4eac-baa9-81e1f741bde6",
   "metadata": {},
   "outputs": [
    {
     "name": "stdout",
     "output_type": "stream",
     "text": [
      "12.6\n"
     ]
    }
   ],
   "source": [
    "def find_y_lag(new_x):\n",
    "    result = 0\n",
    "    for i in range (0, len(x_arr)):\n",
    "        coef = raznos(i, len(x_arr))\n",
    "        multiplex = (new_x - np.delete(x_arr.copy(), i))\n",
    "        \n",
    "        result += coef*(np.prod(multiplex))\n",
    "        \n",
    "    return result\n",
    "\n",
    "print(round(find_y_lag(2), 2))"
   ]
  },
  {
   "cell_type": "code",
   "execution_count": null,
   "id": "cad76d66-bf2d-4bd1-ba58-0920bb2686ff",
   "metadata": {},
   "outputs": [],
   "source": []
  }
 ],
 "metadata": {
  "kernelspec": {
   "display_name": "Python 3 (ipykernel)",
   "language": "python",
   "name": "python3"
  },
  "language_info": {
   "codemirror_mode": {
    "name": "ipython",
    "version": 3
   },
   "file_extension": ".py",
   "mimetype": "text/x-python",
   "name": "python",
   "nbconvert_exporter": "python",
   "pygments_lexer": "ipython3",
   "version": "3.8.10"
  }
 },
 "nbformat": 4,
 "nbformat_minor": 5
}
