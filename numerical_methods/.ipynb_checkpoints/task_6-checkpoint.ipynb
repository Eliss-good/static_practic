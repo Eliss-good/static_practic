{
 "cells": [
  {
   "cell_type": "markdown",
   "metadata": {
    "pycharm": {
     "name": "#%% md\n"
    }
   },
   "source": [
    "# Численные методы\n",
    "### Задание 6. \n",
    "\n",
    "###### По заданным значениям $x$ и $y$ найти прямую $y=a_0+a_1 x$ и параболу $y=a_0+a_1  x+ a_2 x^2$ методом наименьших квадратов. Найти погрешность. Построить прямую и кривую в той же системе координат, где нанесены данные точки."
   ]
  },
  {
   "cell_type": "code",
   "execution_count": 3,
   "metadata": {
    "pycharm": {
     "name": "#%%\n"
    }
   },
   "outputs": [],
   "source": [
    "import numpy as np\n",
    "import matplotlib.pyplot as plt\n",
    "import pandas as pd"
   ]
  },
  {
   "cell_type": "code",
   "execution_count": 4,
   "metadata": {
    "pycharm": {
     "name": "#%%\n"
    }
   },
   "outputs": [],
   "source": [
    "x = np.array([2.09, 2.10, 3.67, 5.66, 6.04, 6.43, 6.92, 7.65, 7.85, 7.97, 8.18, 8.60, 9.82])\n",
    "y = np.array([6.76, 7.5, 10.56, 14.35, 15.48, 15.96, 17.5, 18.78, 19.14, 19.23, 19.45, 20.74, 22.91])\n",
    "# x = np.array([0.18, 0.67, 0.84, 1.40, 2.35, 2.42, 6.60, 6.72, 6.93, 8.57, 9.41, 9.79])\n",
    "# y = np.array([0.96, 1.97, 2.11, 3.30, 5.04, 5.39, 12.47, 13.03, 13.69, 16.59, 18.22, 18.33])"
   ]
  },
  {
   "cell_type": "code",
   "execution_count": 5,
   "metadata": {
    "pycharm": {
     "name": "#%%\n"
    }
   },
   "outputs": [
    {
     "data": {
      "text/plain": [
       "[<matplotlib.lines.Line2D at 0x7fdc46bd09a0>]"
      ]
     },
     "execution_count": 5,
     "metadata": {},
     "output_type": "execute_result"
    },
    {
     "data": {
      "image/png": "[encoded data removed]",
      "text/plain": [
       "<Figure size 432x288 with 1 Axes>"
      ]
     },
     "metadata": {
      "needs_background": "light"
     },
     "output_type": "display_data"
    }
   ],
   "source": [
    "plt.grid()\n",
    "plt.plot(x, y, 'o')"
   ]
  },
  {
   "cell_type": "code",
   "execution_count": 6,
   "metadata": {
    "pycharm": {
     "name": "#%%\n"
    }
   },
   "outputs": [],
   "source": [
    "def syst_eq_solve_lin(x, y):\n",
    "    matrix_1 = np.array([[len(x)+1, np.sum(x)],\n",
    "                        [np.sum(x), np.sum(np.square(x))]])\n",
    "    vector_1 = np.array([np.sum(y), np.sum(x) * np.sum(y)])\n",
    "    return np.linalg.solve(matrix_1, vector_1)\n",
    "\n",
    "a0, a1 = syst_eq_solve_lin(x, y)\n",
    "\n",
    "table = pd.DataFrame(columns=[\"a0\", \"a1\"], data=[syst_eq_solve_lin(x, y)])"
   ]
  },
  {
   "cell_type": "code",
   "execution_count": 7,
   "metadata": {
    "pycharm": {
     "name": "#%%\n"
    }
   },
   "outputs": [
    {
     "data": {
      "text/html": [
       "<div>\n",
       "<style scoped>\n",
       "    .dataframe tbody tr th:only-of-type {\n",
       "        vertical-align: middle;\n",
       "    }\n",
       "\n",
       "    .dataframe tbody tr th {\n",
       "        vertical-align: top;\n",
       "    }\n",
       "\n",
       "    .dataframe thead th {\n",
       "        text-align: right;\n",
       "    }\n",
       "</style>\n",
       "<table border=\"1\" class=\"dataframe\">\n",
       "  <thead>\n",
       "    <tr style=\"text-align: right;\">\n",
       "      <th></th>\n",
       "      <th>a0</th>\n",
       "      <th>a1</th>\n",
       "    </tr>\n",
       "  </thead>\n",
       "  <tbody>\n",
       "    <tr>\n",
       "      <th>0</th>\n",
       "      <td>-857.077682</td>\n",
       "      <td>147.11313</td>\n",
       "    </tr>\n",
       "  </tbody>\n",
       "</table>\n",
       "</div>"
      ],
      "text/plain": [
       "           a0         a1\n",
       "0 -857.077682  147.11313"
      ]
     },
     "execution_count": 7,
     "metadata": {},
     "output_type": "execute_result"
    }
   ],
   "source": [
    "table"
   ]
  },
  {
   "cell_type": "code",
   "execution_count": null,
   "metadata": {
    "pycharm": {
     "name": "#%%\n"
    }
   },
   "outputs": [],
   "source": []
  },
  {
   "cell_type": "code",
   "execution_count": 8,
   "metadata": {
    "pycharm": {
     "name": "#%%\n"
    }
   },
   "outputs": [
    {
     "data": {
      "text/plain": [
       "[<matplotlib.lines.Line2D at 0x7fdc44aa7310>]"
      ]
     },
     "execution_count": 8,
     "metadata": {},
     "output_type": "execute_result"
    },
    {
     "data": {
      "image/png": "[encoded data removed]",
      "text/plain": [
       "<Figure size 432x288 with 1 Axes>"
      ]
     },
     "metadata": {
      "needs_background": "light"
     },
     "output_type": "display_data"
    }
   ],
   "source": [
    "y1 = []\n",
    "\n",
    "mas = []\n",
    "\n",
    "for i in range(-10, 15):\n",
    "    y1.append(a0 + a1 * i*0.1)\n",
    "    mas.append(i*0.1)\n",
    "\n",
    "\n",
    "plt.grid()\n",
    "plt.plot(mas, y1)"
   ]
  },
  {
   "cell_type": "code",
   "execution_count": 9,
   "metadata": {
    "pycharm": {
     "name": "#%%\n"
    }
   },
   "outputs": [],
   "source": [
    "def syst_eq_solve_square(x, y):\n",
    "    x_2 = np.power(x, 2)\n",
    "    x_3 = np.power(x, 3)\n",
    "    x_4 = np.power(x, 4)\n",
    "\n",
    "\n",
    "    matrix_1 = np.array([\n",
    "        [len(x) + 1, np.sum(x), np.sum(x_2)],\n",
    "        [np.sum(x), np.sum(x_2), np.sum(x_3)],\n",
    "        [np.sum(x_2), np.sum(x_3), np.sum(x_4)]\n",
    "    ])\n",
    "    vector_1 = np.array(\n",
    "        [\n",
    "            np.sum(y),\n",
    "            np.sum(x) * np.sum(y),\n",
    "            np.sum(x_2) * np.sum(y)\n",
    "        ]\n",
    "    )\n",
    "    return np.linalg.solve(matrix_1, vector_1)\n",
    "\n",
    "a1, a2, a3 = syst_eq_solve_square(x, y)\n",
    "\n",
    "table = pd.DataFrame(columns=[\"a0\", \"a1\", \"a2\"], data=[syst_eq_solve_square(x, y)])"
   ]
  },
  {
   "cell_type": "code",
   "execution_count": 10,
   "metadata": {
    "pycharm": {
     "name": "#%%\n"
    }
   },
   "outputs": [
    {
     "data": {
      "text/html": [
       "<div>\n",
       "<style scoped>\n",
       "    .dataframe tbody tr th:only-of-type {\n",
       "        vertical-align: middle;\n",
       "    }\n",
       "\n",
       "    .dataframe tbody tr th {\n",
       "        vertical-align: top;\n",
       "    }\n",
       "\n",
       "    .dataframe thead th {\n",
       "        text-align: right;\n",
       "    }\n",
       "</style>\n",
       "<table border=\"1\" class=\"dataframe\">\n",
       "  <thead>\n",
       "    <tr style=\"text-align: right;\">\n",
       "      <th></th>\n",
       "      <th>a0</th>\n",
       "      <th>a1</th>\n",
       "      <th>a2</th>\n",
       "    </tr>\n",
       "  </thead>\n",
       "  <tbody>\n",
       "    <tr>\n",
       "      <th>0</th>\n",
       "      <td>-1717.029732</td>\n",
       "      <td>698.268782</td>\n",
       "      <td>-56.068989</td>\n",
       "    </tr>\n",
       "  </tbody>\n",
       "</table>\n",
       "</div>"
      ],
      "text/plain": [
       "            a0          a1         a2\n",
       "0 -1717.029732  698.268782 -56.068989"
      ]
     },
     "execution_count": 10,
     "metadata": {},
     "output_type": "execute_result"
    }
   ],
   "source": [
    "table"
   ]
  },
  {
   "cell_type": "code",
   "execution_count": 11,
   "metadata": {
    "pycharm": {
     "name": "#%%\n"
    }
   },
   "outputs": [
    {
     "data": {
      "text/plain": [
       "[<matplotlib.lines.Line2D at 0x7fdc44a27100>]"
      ]
     },
     "execution_count": 11,
     "metadata": {},
     "output_type": "execute_result"
    },
    {
     "data": {
      "image/png": "[encoded data removed]",
      "text/plain": [
       "<Figure size 432x288 with 1 Axes>"
      ]
     },
     "metadata": {
      "needs_background": "light"
     },
     "output_type": "display_data"
    }
   ],
   "source": [
    "\n",
    "y2 = []\n",
    "\n",
    "mas2 = []\n",
    "\n",
    "for i in range(-10, 15):\n",
    "    y2.append(a0 + a1 * i*0.1 + a2 * a3 * (i*0.1)**2)\n",
    "    mas2.append(i*0.1)\n",
    "\n",
    "\n",
    "plt.grid()\n",
    "plt.plot(mas2, y2)"
   ]
  },
  {
   "cell_type": "code",
   "execution_count": 12,
   "metadata": {
    "pycharm": {
     "name": "#%%\n"
    }
   },
   "outputs": [
    {
     "data": {
      "text/plain": [
       "[<matplotlib.lines.Line2D at 0x7fdc44992640>]"
      ]
     },
     "execution_count": 12,
     "metadata": {},
     "output_type": "execute_result"
    },
    {
     "data": {
      "image/png": "[encoded data removed]",
      "text/plain": [
       "<Figure size 432x288 with 1 Axes>"
      ]
     },
     "metadata": {
      "needs_background": "light"
     },
     "output_type": "display_data"
    }
   ],
   "source": [
    "plt.grid()\n",
    "plt.plot(mas, y1)\n",
    "plt.plot(mas2, y2)"
   ]
  }
 ],
 "metadata": {
  "kernelspec": {
   "display_name": "Python 3 (ipykernel)",
   "language": "python",
   "name": "python3"
  },
  "language_info": {
   "codemirror_mode": {
    "name": "ipython",
    "version": 3
   },
   "file_extension": ".py",
   "mimetype": "text/x-python",
   "name": "python",
   "nbconvert_exporter": "python",
   "pygments_lexer": "ipython3",
   "version": "3.8.10"
  }
 },
 "nbformat": 4,
 "nbformat_minor": 4
}
