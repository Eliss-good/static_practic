{
 "cells": [
  {
   "cell_type": "markdown",
   "metadata": {
    "pycharm": {
     "name": "#%% md\n"
    }
   },
   "source": [
    "# Численные методы\n",
    "### Задание 6. \n",
    "\n",
    "###### По заданным значениям $x$ и $y$ найти прямую $y=a_0+a_1 x$ и параболу $y=a_0+a_1  x+ a_2 x^2$ методом наименьших квадратов. Найти погрешность. Построить прямую и кривую в той же системе координат, где нанесены данные точки."
   ]
  },
  {
   "cell_type": "code",
   "execution_count": 1,
   "metadata": {
    "pycharm": {
     "name": "#%%\n"
    }
   },
   "outputs": [],
   "source": [
    "import numpy as np\n",
    "import matplotlib.pyplot as plt\n",
    "import pandas as pd"
   ]
  },
  {
   "cell_type": "code",
   "execution_count": 2,
   "metadata": {
    "pycharm": {
     "name": "#%%\n"
    }
   },
   "outputs": [],
   "source": [
    "x = np.array([0.61, 1.28, 1.72, 2.32, 3.07, 4.16, 6.95, 7.15, 7.28, 7.82, 8.22, 9.09, 9.75])\n",
    "y = np.array([0.59, 2.68, 4.54, 6.58, 8.69, 12.08, 21.98, 21.75, 22.18, 24.84, 25.96, 28.64, 30.45])\n",
    "# x = np.array([0.18, 0.67, 0.84, 1.40, 2.35, 2.42, 6.60, 6.72, 6.93, 8.57, 9.41, 9.79])\n",
    "# y = np.array([0.96, 1.97, 2.11, 3.30, 5.04, 5.39, 12.47, 13.03, 13.69, 16.59, 18.22, 18.33])"
   ]
  },
  {
   "cell_type": "code",
   "execution_count": 3,
   "metadata": {
    "pycharm": {
     "name": "#%%\n"
    }
   },
   "outputs": [],
   "source": [
    "def syst_eq_solve_lin(x, y):\n",
    "    matrix_1 = np.array([[len(x)+1, np.sum(x)],\n",
    "                        [np.sum(x), np.sum(np.square(x))]])\n",
    "    vector_1 = np.array([np.sum(y), np.sum(x) * np.sum(y)])\n",
    "    return np.linalg.solve(matrix_1, vector_1)\n",
    "\n",
    "a0, a1 = syst_eq_solve_lin(x, y)\n",
    "\n",
    "table = pd.DataFrame(columns=[\"a0\", \"a1\"], data=[syst_eq_solve_lin(x, y)])"
   ]
  },
  {
   "cell_type": "code",
   "execution_count": 4,
   "metadata": {
    "pycharm": {
     "name": "#%%\n"
    }
   },
   "outputs": [
    {
     "data": {
      "text/html": [
       "<div>\n",
       "<style scoped>\n",
       "    .dataframe tbody tr th:only-of-type {\n",
       "        vertical-align: middle;\n",
       "    }\n",
       "\n",
       "    .dataframe tbody tr th {\n",
       "        vertical-align: top;\n",
       "    }\n",
       "\n",
       "    .dataframe thead th {\n",
       "        text-align: right;\n",
       "    }\n",
       "</style>\n",
       "<table border=\"1\" class=\"dataframe\">\n",
       "  <thead>\n",
       "    <tr style=\"text-align: right;\">\n",
       "      <th></th>\n",
       "      <th>a0</th>\n",
       "      <th>a1</th>\n",
       "    </tr>\n",
       "  </thead>\n",
       "  <tbody>\n",
       "    <tr>\n",
       "      <th>0</th>\n",
       "      <td>-429.452449</td>\n",
       "      <td>89.646994</td>\n",
       "    </tr>\n",
       "  </tbody>\n",
       "</table>\n",
       "</div>"
      ],
      "text/plain": [
       "           a0         a1\n",
       "0 -429.452449  89.646994"
      ]
     },
     "execution_count": 4,
     "metadata": {},
     "output_type": "execute_result"
    }
   ],
   "source": [
    "table"
   ]
  },
  {
   "cell_type": "code",
   "execution_count": 5,
   "metadata": {
    "pycharm": {
     "name": "#%%\n"
    }
   },
   "outputs": [],
   "source": [
    "y1 = []\n",
    "\n",
    "mas = []\n",
    "\n",
    "for i in range(-10, 15):\n",
    "    y1.append(a0 + a1 * i*0.1)\n",
    "    mas.append(i*0.1)"
   ]
  },
  {
   "cell_type": "code",
   "execution_count": 6,
   "metadata": {
    "pycharm": {
     "name": "#%%\n"
    }
   },
   "outputs": [],
   "source": [
    "def syst_eq_solve_square(x, y):\n",
    "    x_2 = np.power(x, 2)\n",
    "    x_3 = np.power(x, 3)\n",
    "    x_4 = np.power(x, 4)\n",
    "\n",
    "\n",
    "    matrix_1 = np.array([\n",
    "        [len(x) + 1, np.sum(x), np.sum(x_2)],\n",
    "        [np.sum(x), np.sum(x_2), np.sum(x_3)],\n",
    "        [np.sum(x_2), np.sum(x_3), np.sum(x_4)]\n",
    "    ])\n",
    "    vector_1 = np.array(\n",
    "        [\n",
    "            np.sum(y),\n",
    "            np.sum(x) * np.sum(y),\n",
    "            np.sum(x_2) * np.sum(y)\n",
    "        ]\n",
    "    )\n",
    "    return np.linalg.solve(matrix_1, vector_1)\n",
    "\n",
    "a1, a2, a3 = syst_eq_solve_square(x, y)\n",
    "\n",
    "table = pd.DataFrame(columns=[\"a0\", \"a1\", \"a2\"], data=[syst_eq_solve_square(x, y)])"
   ]
  },
  {
   "cell_type": "code",
   "execution_count": 7,
   "metadata": {
    "pycharm": {
     "name": "#%%\n"
    }
   },
   "outputs": [
    {
     "data": {
      "text/html": [
       "<div>\n",
       "<style scoped>\n",
       "    .dataframe tbody tr th:only-of-type {\n",
       "        vertical-align: middle;\n",
       "    }\n",
       "\n",
       "    .dataframe tbody tr th {\n",
       "        vertical-align: top;\n",
       "    }\n",
       "\n",
       "    .dataframe thead th {\n",
       "        text-align: right;\n",
       "    }\n",
       "</style>\n",
       "<table border=\"1\" class=\"dataframe\">\n",
       "  <thead>\n",
       "    <tr style=\"text-align: right;\">\n",
       "      <th></th>\n",
       "      <th>a0</th>\n",
       "      <th>a1</th>\n",
       "      <th>a2</th>\n",
       "    </tr>\n",
       "  </thead>\n",
       "  <tbody>\n",
       "    <tr>\n",
       "      <th>0</th>\n",
       "      <td>-1001.709703</td>\n",
       "      <td>536.985992</td>\n",
       "      <td>-46.464812</td>\n",
       "    </tr>\n",
       "  </tbody>\n",
       "</table>\n",
       "</div>"
      ],
      "text/plain": [
       "            a0          a1         a2\n",
       "0 -1001.709703  536.985992 -46.464812"
      ]
     },
     "execution_count": 7,
     "metadata": {},
     "output_type": "execute_result"
    }
   ],
   "source": [
    "table"
   ]
  },
  {
   "cell_type": "code",
   "execution_count": 8,
   "metadata": {
    "pycharm": {
     "name": "#%%\n"
    }
   },
   "outputs": [],
   "source": [
    "\n",
    "y2 = []\n",
    "\n",
    "mas2 = []\n",
    "\n",
    "for i in range(-10, 15):\n",
    "    y2.append(a0 + a1 * i*0.1 + a2 * a3 * (i*0.1)**2)\n",
    "    mas2.append(i*0.1)"
   ]
  },
  {
   "cell_type": "code",
   "execution_count": 9,
   "metadata": {
    "pycharm": {
     "name": "#%%\n"
    }
   },
   "outputs": [
    {
     "data": {
      "text/plain": [
       "[<matplotlib.lines.Line2D at 0x7f1789da4280>]"
      ]
     },
     "execution_count": 9,
     "metadata": {},
     "output_type": "execute_result"
    },
    {
     "data": {
      "image/png": "[encoded data removed]",
      "text/plain": [
       "<Figure size 432x288 with 1 Axes>"
      ]
     },
     "metadata": {
      "needs_background": "light"
     },
     "output_type": "display_data"
    }
   ],
   "source": [
    "plt.grid()\n",
    "plt.plot(mas, y1)\n",
    "plt.plot(mas2, y2)"
   ]
  },
  {
   "cell_type": "code",
   "execution_count": null,
   "metadata": {},
   "outputs": [],
   "source": []
  },
  {
   "cell_type": "code",
   "execution_count": null,
   "metadata": {},
   "outputs": [],
   "source": []
  }
 ],
 "metadata": {
  "kernelspec": {
   "display_name": "Python 3 (ipykernel)",
   "language": "python",
   "name": "python3"
  },
  "language_info": {
   "codemirror_mode": {
    "name": "ipython",
    "version": 3
   },
   "file_extension": ".py",
   "mimetype": "text/x-python",
   "name": "python",
   "nbconvert_exporter": "python",
   "pygments_lexer": "ipython3",
   "version": "3.8.10"
  }
 },
 "nbformat": 4,
 "nbformat_minor": 4
}
