{
 "cells": [
  {
   "cell_type": "code",
   "execution_count": 1,
   "id": "b4c98469-95c2-415e-8ef7-6e411dfce51b",
   "metadata": {},
   "outputs": [],
   "source": [
    "x = [2.09, 2.10, 3.67, 5.66, 6.04, 6.43, 6.92, 7.65, 7.85, 7.97, 8.18, 8.60, 9.82]\n",
    "y = [6.76, 7.5, 10.56, 14.35, 15.48, 15.96, 17.5, 18.78, 19.14, 19.23, 19.45, 20.74, 22.91]\n",
    "\n",
    "n = len(x)"
   ]
  },
  {
   "cell_type": "code",
   "execution_count": 2,
   "id": "3ac59362-7bfb-4c97-8f56-653fc192da61",
   "metadata": {},
   "outputs": [],
   "source": [
    "sum_xi    = 0\n",
    "sum_xi2   = 0\n",
    "sum_xi3   = 0\n",
    "sum_xi4   = 0\n",
    "sum_yi    = 0\n",
    "sum_yixi  = 0\n",
    "sum_yixi2 = 0\n",
    "\n",
    "a0_lnr = 0\n",
    "a1_lnr = 0\n",
    "a0_prb = 0\n",
    "a1_prb = 0\n",
    "a2_prb = 0\n",
    "\n",
    "for i in range(n):    \n",
    "    sum_xi    += x[i]\n",
    "    sum_xi2   += x[i]**2\n",
    "    sum_xi3   += x[i]**3\n",
    "    sum_xi4   += x[i]**4\n",
    "    sum_yi    += y[i]\n",
    "    sum_yixi  += y[i] * x[i] \n",
    "    sum_yixi2 += y[i] * x[i]**2"
   ]
  },
  {
   "cell_type": "code",
   "execution_count": 3,
   "id": "1ccd1d27-8ee0-4fe5-817c-f80b392ad147",
   "metadata": {},
   "outputs": [
    {
     "name": "stdout",
     "output_type": "stream",
     "text": [
      "2.0578138361354585 2.892508298267669\n"
     ]
    }
   ],
   "source": [
    "a0_lnr = ( n * sum_yixi - sum_xi * sum_yi ) / ( n * sum_xi2 - (sum_xi)**2 )\n",
    "\n",
    "a1_lnr = ( sum_yi - a0_lnr * sum_xi ) / n\n",
    "\n",
    "print(a0_lnr, a1_lnr)"
   ]
  },
  {
   "cell_type": "code",
   "execution_count": 4,
   "id": "89e0fe0c-5b0f-4ede-add5-f0401d7b3227",
   "metadata": {},
   "outputs": [
    {
     "name": "stdout",
     "output_type": "stream",
     "text": [
      "⎡ 2.60708574712635  ⎤\n",
      "⎢                   ⎥\n",
      "⎢ 2.18429243839046  ⎥\n",
      "⎢                   ⎥\n",
      "⎣-0.0112896553088611⎦\n"
     ]
    }
   ],
   "source": [
    "from sympy import *\n",
    "\n",
    "S_x = Matrix([\n",
    "        [ n,       sum_xi,  sum_xi2 ],\n",
    "        [ sum_xi,  sum_xi2, sum_xi3 ],\n",
    "        [ sum_xi2, sum_xi3, sum_xi4 ]\n",
    "    ])\n",
    "\n",
    "S_y = Matrix([\n",
    "        [ sum_yi    ],\n",
    "        [ sum_yixi  ],\n",
    "        [ sum_yixi2 ]\n",
    "    ])\n",
    "\n",
    "A = S_x.inv() * S_y \n",
    "\n",
    "a0_prb = A[0]\n",
    "a1_prb = A[1]\n",
    "a2_prb = A[2]\n",
    "\n",
    "pprint(A)"
   ]
  },
  {
   "cell_type": "code",
   "execution_count": 5,
   "id": "860d3908-4f11-4757-a295-bf2b18663c1e",
   "metadata": {},
   "outputs": [],
   "source": [
    "a0, a1, a2, xi = symbols(\"a_0 a_1 a_2 x_i\")\n",
    "\n",
    "y_lnr = []\n",
    "y_prb = []\n",
    "\n",
    "fy_lnr = a0 + a1 * xi\n",
    "fy_prb = a0 + a1 * xi + a2 * xi**2\n",
    "\n",
    "for i in range(n):\n",
    "    y_lnr.append( fy_lnr.subs([ (a0, a0_lnr), (a1, a1_lnr), (xi, x[i]) ]).evalf() )\n",
    "    y_prb.append( fy_prb.subs([ (a0, a0_prb), (a1, a1_prb), (a2, a2_prb), (xi, x[i]) ]).evalf() )"
   ]
  },
  {
   "cell_type": "code",
   "execution_count": 6,
   "id": "760c117a-4124-4da3-9edf-b1e60f277ea6",
   "metadata": {},
   "outputs": [
    {
     "name": "stdout",
     "output_type": "stream",
     "text": [
      "4.90531131779079 0.220042331611417\n"
     ]
    }
   ],
   "source": [
    "accuracy_lnr = 0\n",
    "accuracy_prb = 0\n",
    "\n",
    "for i in range(n):\n",
    "    accuracy_lnr += (y[i] - y_lnr[i])**2\n",
    "    accuracy_prb += (y[i] - y_prb[i])**2\n",
    "    \n",
    "accuracy_lnr = sqrt(accuracy_lnr / n)\n",
    "accuracy_prb = sqrt(accuracy_prb / n)\n",
    "    \n",
    "print(format(accuracy_lnr, 'f'), format(accuracy_prb, 'f'))"
   ]
  },
  {
   "cell_type": "code",
   "execution_count": 7,
   "id": "fae842ca-3537-4957-a048-7e2fee503a01",
   "metadata": {},
   "outputs": [
    {
     "name": "stdout",
     "output_type": "stream",
     "text": [
      "РЕЗУЛЬТАТ\n",
      "\n",
      "Прямая:\n",
      "\n",
      "a0 = 2.0578138361354585, a1 = 2.892508298267669\n",
      "\n",
      "СКП: 4.90531131779079\n",
      "\n",
      "Парабола:\n",
      "\n",
      "a0 = 2.60708574712635, a1 = 2.18429243839046, a2 = -0.0112896553088611\n",
      "\n",
      "СКП: 0.220042331611417\n",
      "\n"
     ]
    },
    {
     "data": {
      "image/png": "[encoded data removed]",
      "text/plain": [
       "<Figure size 432x288 with 1 Axes>"
      ]
     },
     "metadata": {
      "needs_background": "light"
     },
     "output_type": "display_data"
    }
   ],
   "source": [
    "print(\"РЕЗУЛЬТАТ\\n\")\n",
    "print(\"Прямая:\\n\")\n",
    "print(\"a0 = %s, a1 = %s\\n\" % (a0_lnr, a1_lnr))\n",
    "print(\"СКП: %s\" % format(accuracy_lnr, 'f'))\n",
    "print(\"\")\n",
    "print(\"Парабола:\\n\")\n",
    "print(\"a0 = %s, a1 = %s, a2 = %s\\n\" % (a0_prb, a1_prb, a2_prb))\n",
    "print(\"СКП: %s\" % format(accuracy_prb, 'f'))\n",
    "print(\"\")\n",
    "\n",
    "import matplotlib.pyplot as plt\n",
    "\n",
    "plt.grid()\n",
    "\n",
    "plt.plot(x, y_lnr, 'b',  label = 'прямая')\n",
    "plt.plot(x, y_prb, 'r',  label = 'парабола')\n",
    "plt.plot(x, y,     'c.', label = 'исходные точки')\n",
    "\n",
    "plt.legend()\n",
    "plt.savefig('6.png')"
   ]
  },
  {
   "cell_type": "code",
   "execution_count": null,
   "id": "a3356b99-dc9e-41a1-bd42-0dc68ecc5800",
   "metadata": {},
   "outputs": [],
   "source": []
  }
 ],
 "metadata": {
  "kernelspec": {
   "display_name": "Python 3 (ipykernel)",
   "language": "python",
   "name": "python3"
  },
  "language_info": {
   "codemirror_mode": {
    "name": "ipython",
    "version": 3
   },
   "file_extension": ".py",
   "mimetype": "text/x-python",
   "name": "python",
   "nbconvert_exporter": "python",
   "pygments_lexer": "ipython3",
   "version": "3.8.10"
  }
 },
 "nbformat": 4,
 "nbformat_minor": 5
}
