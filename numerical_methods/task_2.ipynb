{
 "cells": [
  {
   "cell_type": "markdown",
   "metadata": {
    "pycharm": {
     "name": "#%% md\n"
    }
   },
   "source": [
    "# Задание №2\n",
    "\n",
    "---\n",
    "\n",
    "Ниже приведен пример решения для уравнения $\\sqrt{x+1}= 1/x$ на интервале $[0.1; 1]$"
   ]
  },
  {
   "cell_type": "code",
   "execution_count": null,
   "metadata": {
    "pycharm": {
     "name": "#%%\n"
    }
   },
   "outputs": [],
   "source": [
    "import numpy as np\n",
    "import math\n",
    "# Чсиленные методы\n",
    "\n",
    "### Метод Ньютона\n",
    "from sympy import symbols, diff, sqrt\n",
    "import pandas as pd\n",
    "\n",
    "\n",
    "x = symbols('x')\n",
    "E = 0.001\n",
    "a = 0.1 # Левая граница\n",
    "b = 1 # Правая граница\n",
    "# a = -1\n",
    "# b = 1\n",
    "def F(val):\n",
    "    x = symbols('x')\n",
    "    f = sqrt(x + 1) - (1 / x)  # Функция\n",
    "    x = symbols('x')\n",
    "    return f, f.subs({x: val})\n",
    "F(10)[0]\n",
    "\n",
    "def dF(val):\n",
    "    x = symbols('x')\n",
    "    f = diff(F(val)[0])\n",
    "    return f, f.subs({x: val})\n",
    "\n",
    "dF(10)[0]"
   ]
  },
  {
   "cell_type": "code",
   "execution_count": null,
   "metadata": {
    "pycharm": {
     "name": "#%%\n"
    }
   },
   "outputs": [],
   "source": [
    "def d2F(val):\n",
    "    x = symbols('x')\n",
    "    f = diff(dF(val)[0])\n",
    "    return f, f.subs({x: val})\n",
    "\n",
    "d2F(10)[0]"
   ]
  },
  {
   "cell_type": "code",
   "execution_count": null,
   "metadata": {
    "pycharm": {
     "name": "#%%\n"
    }
   },
   "outputs": [],
   "source": [
    "def NewtonMethod():\n",
    "    res_table = pd.DataFrame(columns=[\n",
    "        'x0',\n",
    "        'xn'\n",
    "    ])\n",
    "    def add_into_table(x0, xn):\n",
    "        res_table.loc[len(res_table.index)] = [x0, xn]\n",
    "\n",
    "    if F(a)[1] * d2F(a)[1] > 0:\n",
    "        x0 = a\n",
    "    else:\n",
    "        x0 = b\n",
    "    xn = x0 - (F(x0)[1]/dF(x0)[1])\n",
    "    xn = float(xn)\n",
    "    add_into_table(x0, xn)\n",
    "    i = 1\n",
    "    while abs(x0 - xn) > E:\n",
    "        i += 1\n",
    "        x0 = xn\n",
    "        xn = x0 - F(x0)[1]/dF(x0)[1]\n",
    "        add_into_table(x0, xn)\n",
    "    return res_table"
   ]
  },
  {
   "cell_type": "code",
   "execution_count": null,
   "metadata": {
    "pycharm": {
     "name": "#%%\n"
    }
   },
   "outputs": [],
   "source": [
    "NewtonMethod()"
   ]
  },
  {
   "cell_type": "code",
   "execution_count": null,
   "metadata": {
    "pycharm": {
     "name": "#%%\n"
    }
   },
   "outputs": [],
   "source": [
    "def HordMethod():\n",
    "    try:\n",
    "        res_table = pd.DataFrame(columns=[\n",
    "        'x0',\n",
    "        'xn',\n",
    "        'xn1'\n",
    "        ])\n",
    "        def add_into_table(x0, xn, xn1):\n",
    "            res_table.loc[len(res_table.index)] = [x0, xn, xn1]\n",
    "\n",
    "        x0 = (a + b) / 2\n",
    "        xn = F(x0)[1]\n",
    "        xn1 = xn - F(xn)[1] / dF(xn)[1]\n",
    "        while abs(xn1 - xn) > E:\n",
    "            xn = xn1\n",
    "            xn1 = xn - F(xn)[1] / dF(xn)[1]\n",
    "            add_into_table(x0, xn, xn1)\n",
    "        return res_table, xn1\n",
    "    except ValueError:\n",
    "        print(\"Value not invalidate\")"
   ]
  },
  {
   "cell_type": "code",
   "execution_count": null,
   "metadata": {
    "pycharm": {
     "name": "#%%\n"
    }
   },
   "outputs": [],
   "source": [
    "HordMethod()[0]"
   ]
  },
  {
   "cell_type": "code",
   "execution_count": 6,
   "metadata": {
    "pycharm": {
     "name": "#%%\n"
    }
   },
   "outputs": [],
   "source": []
  }
 ],
 "metadata": {
  "kernelspec": {
   "display_name": "Python 3 (ipykernel)",
   "language": "python",
   "name": "python3"
  },
  "language_info": {
   "codemirror_mode": {
    "name": "ipython",
    "version": 3
   },
   "file_extension": ".py",
   "mimetype": "text/x-python",
   "name": "python",
   "nbconvert_exporter": "python",
   "pygments_lexer": "ipython3",
   "version": "3.8.10"
  }
 },
 "nbformat": 4,
 "nbformat_minor": 1
}
