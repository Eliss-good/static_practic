{
 "cells": [
  {
   "cell_type": "markdown",
   "metadata": {
    "jp-MarkdownHeadingCollapsed": true,
    "pycharm": {
     "name": "#%% md\n"
    },
    "tags": []
   },
   "source": [
    "# Численные методы\n",
    "---\n",
    "\n",
    "### Задание 2. Решить уравнение методом Ньютона и хорд с точностью ε = 0,001.\n",
    "---\n",
    "\n",
    "Ниже приведен пример решения для уравнения $\\sqrt{(x+1)}=1/x$ на интервале $[0.1; 1]$"
   ]
  },
  {
   "cell_type": "code",
   "execution_count": 1,
   "metadata": {
    "pycharm": {
     "name": "#%%\n"
    }
   },
   "outputs": [
    {
     "data": {
      "text/latex": [
       "$\\displaystyle \\frac{1}{2 \\sqrt{x + 1}} + \\frac{1}{x^{2}}$"
      ],
      "text/plain": [
       "1/(2*sqrt(x + 1)) + x**(-2)"
      ]
     },
     "execution_count": 7,
     "metadata": {},
     "output_type": "execute_result"
    }
   ],
   "source": [
    "import numpy as np\n",
    "import math\n",
    "# Чсиленные методы\n",
    "\n",
    "### Метод Ньютона\n",
    "from sympy import symbols, diff, sqrt\n",
    "\n",
    "import pandas as pd\n",
    "\n",
    "\n",
    "x = symbols('x')\n",
    "E = 0.001\n",
    "a = 0.1\n",
    "b = 1\n",
    "def F(val):\n",
    "    x = symbols('x')\n",
    "    f = sqrt(x+1)-(1/x)\n",
    "    return f, float(f.subs({x: val}))\n",
    "F(10)[0]\n",
    "\n",
    "def dF(val):\n",
    "    x = symbols('x')\n",
    "    f = diff(F(val)[0])\n",
    "    return f, float(f.subs({x: val}))\n",
    "\n",
    "dF(10)[0]"
   ]
  },
  {
   "cell_type": "code",
   "execution_count": 2,
   "metadata": {
    "pycharm": {
     "name": "#%%\n"
    }
   },
   "outputs": [
    {
     "data": {
      "text/latex": [
       "$\\displaystyle - \\frac{1}{4 \\left(x + 1\\right)^{\\frac{3}{2}}} - \\frac{2}{x^{3}}$"
      ],
      "text/plain": [
       "-1/(4*(x + 1)**(3/2)) - 2/x**3"
      ]
     },
     "execution_count": 8,
     "metadata": {},
     "output_type": "execute_result"
    }
   ],
   "source": [
    "def d2F(val):\n",
    "    x = symbols('x')\n",
    "    f = diff(dF(val)[0])\n",
    "    return f, float(f.subs({x: val}))\n",
    "\n",
    "d2F(10)[0]"
   ]
  },
  {
   "cell_type": "code",
   "execution_count": 12,
   "metadata": {
    "pycharm": {
     "name": "#%%\n"
    }
   },
   "outputs": [],
   "source": [
    "def add_into_table(x0, xn):\n",
    "        res_table.loc[len(res_table.index)] = [x0, xn]\n",
    "\n",
    "def NewtonMethod():\n",
    "    res_table = pd.DataFrame(columns=[\n",
    "        'x0',\n",
    "        'xn'\n",
    "    ])\n",
    "    \n",
    "    def add_into_table(x0, xn):\n",
    "        res_table.loc[len(res_table.index)] = [x0, xn]\n",
    "        \n",
    "    if F(a)[1] * d2F(a)[1] > 0:\n",
    "        x0 = a\n",
    "    else:\n",
    "        x0 = b\n",
    "    xn = x0 - (F(x0)[1]/dF(x0)[1])\n",
    "    xn = float(xn)\n",
    "    add_into_table(x0, xn)\n",
    "    i = 1\n",
    "    while abs(x0 - xn) > E:\n",
    "        i += 1\n",
    "        x0 = xn\n",
    "        xn = x0 - F(x0)[1]/dF(x0)[1]\n",
    "        add_into_table(x0, xn)\n",
    "    return res_table, xn"
   ]
  },
  {
   "cell_type": "code",
   "execution_count": 13,
   "metadata": {
    "pycharm": {
     "name": "#%%\n"
    }
   },
   "outputs": [
    {
     "name": "stdout",
     "output_type": "stream",
     "text": [
      "x =  0.7548776658829206\n"
     ]
    },
    {
     "data": {
      "text/html": [
       "<div>\n",
       "<style scoped>\n",
       "    .dataframe tbody tr th:only-of-type {\n",
       "        vertical-align: middle;\n",
       "    }\n",
       "\n",
       "    .dataframe tbody tr th {\n",
       "        vertical-align: top;\n",
       "    }\n",
       "\n",
       "    .dataframe thead th {\n",
       "        text-align: right;\n",
       "    }\n",
       "</style>\n",
       "<table border=\"1\" class=\"dataframe\">\n",
       "  <thead>\n",
       "    <tr style=\"text-align: right;\">\n",
       "      <th></th>\n",
       "      <th>x0</th>\n",
       "      <th>xn</th>\n",
       "    </tr>\n",
       "  </thead>\n",
       "  <tbody>\n",
       "    <tr>\n",
       "      <th>0</th>\n",
       "      <td>0.100000</td>\n",
       "      <td>0.189087</td>\n",
       "    </tr>\n",
       "    <tr>\n",
       "      <th>1</th>\n",
       "      <td>0.189087</td>\n",
       "      <td>0.336765</td>\n",
       "    </tr>\n",
       "    <tr>\n",
       "      <th>2</th>\n",
       "      <td>0.336765</td>\n",
       "      <td>0.532792</td>\n",
       "    </tr>\n",
       "    <tr>\n",
       "      <th>3</th>\n",
       "      <td>0.532792</td>\n",
       "      <td>0.695488</td>\n",
       "    </tr>\n",
       "    <tr>\n",
       "      <th>4</th>\n",
       "      <td>0.695488</td>\n",
       "      <td>0.750857</td>\n",
       "    </tr>\n",
       "    <tr>\n",
       "      <th>5</th>\n",
       "      <td>0.750857</td>\n",
       "      <td>0.754860</td>\n",
       "    </tr>\n",
       "    <tr>\n",
       "      <th>6</th>\n",
       "      <td>0.754860</td>\n",
       "      <td>0.754878</td>\n",
       "    </tr>\n",
       "  </tbody>\n",
       "</table>\n",
       "</div>"
      ],
      "text/plain": [
       "         x0        xn\n",
       "0  0.100000  0.189087\n",
       "1  0.189087  0.336765\n",
       "2  0.336765  0.532792\n",
       "3  0.532792  0.695488\n",
       "4  0.695488  0.750857\n",
       "5  0.750857  0.754860\n",
       "6  0.754860  0.754878"
      ]
     },
     "execution_count": 13,
     "metadata": {},
     "output_type": "execute_result"
    }
   ],
   "source": [
    "print(\"x = \", NewtonMethod()[1])\n",
    "NewtonMethod()[0]"
   ]
  },
  {
   "cell_type": "code",
   "execution_count": 14,
   "metadata": {
    "pycharm": {
     "name": "#%%\n"
    }
   },
   "outputs": [],
   "source": [
    "def HordMethod():\n",
    "    try:\n",
    "        res_table = pd.DataFrame(columns=[\n",
    "        'x_n-1',\n",
    "        'xn',\n",
    "        ])\n",
    "        def add_into_table(x0, xn):\n",
    "            res_table.loc[len(res_table.index)] = [x0, xn]\n",
    "\n",
    "        if d2F(a)[1] * F(a)[1] > 0:\n",
    "            x0 = a\n",
    "        else:\n",
    "            x0 = b\n",
    "\n",
    "        x1 = x0 - (F(x0)[1]/(F(b)[1] - F(a)[1])) * (b - a)\n",
    "        add_into_table(x0, x1)\n",
    "        xn = x1\n",
    "        x2 = xn - (F(xn)[1]/(F(b)[1] - F(xn)[1])) * (b - xn)\n",
    "        xn -= (F(xn)[1]/(F(b)[1] - F(xn)[1])) * (b - xn)\n",
    "        add_into_table(x2, xn)\n",
    "        while abs(xn - x1) > E:\n",
    "            x1 = xn\n",
    "            xn -= (F(xn)[1]/(F(b)[1] - F(xn)[1])) * (b - xn)\n",
    "            add_into_table(x1, xn)\n",
    "\n",
    "\n",
    "        return res_table, xn\n",
    "    except ValueError:\n",
    "        print(\"Value not invalidate\")"
   ]
  },
  {
   "cell_type": "code",
   "execution_count": 6,
   "metadata": {
    "pycharm": {
     "name": "#%%\n"
    }
   },
   "outputs": [
    {
     "name": "stdout",
     "output_type": "stream",
     "text": [
      "x =  0.7549415787649418\n"
     ]
    },
    {
     "data": {
      "text/html": [
       "<div>\n",
       "<style scoped>\n",
       "    .dataframe tbody tr th:only-of-type {\n",
       "        vertical-align: middle;\n",
       "    }\n",
       "\n",
       "    .dataframe tbody tr th {\n",
       "        vertical-align: top;\n",
       "    }\n",
       "\n",
       "    .dataframe thead th {\n",
       "        text-align: right;\n",
       "    }\n",
       "</style>\n",
       "<table border=\"1\" class=\"dataframe\">\n",
       "  <thead>\n",
       "    <tr style=\"text-align: right;\">\n",
       "      <th></th>\n",
       "      <th>x_n-1</th>\n",
       "      <th>xn</th>\n",
       "    </tr>\n",
       "  </thead>\n",
       "  <tbody>\n",
       "    <tr>\n",
       "      <th>0</th>\n",
       "      <td>0.100000</td>\n",
       "      <td>0.960195</td>\n",
       "    </tr>\n",
       "    <tr>\n",
       "      <th>1</th>\n",
       "      <td>0.703452</td>\n",
       "      <td>0.703452</td>\n",
       "    </tr>\n",
       "    <tr>\n",
       "      <th>2</th>\n",
       "      <td>0.703452</td>\n",
       "      <td>0.768504</td>\n",
       "    </tr>\n",
       "    <tr>\n",
       "      <th>3</th>\n",
       "      <td>0.768504</td>\n",
       "      <td>0.751320</td>\n",
       "    </tr>\n",
       "    <tr>\n",
       "      <th>4</th>\n",
       "      <td>0.751320</td>\n",
       "      <td>0.755810</td>\n",
       "    </tr>\n",
       "    <tr>\n",
       "      <th>5</th>\n",
       "      <td>0.755810</td>\n",
       "      <td>0.754634</td>\n",
       "    </tr>\n",
       "    <tr>\n",
       "      <th>6</th>\n",
       "      <td>0.754634</td>\n",
       "      <td>0.754942</td>\n",
       "    </tr>\n",
       "  </tbody>\n",
       "</table>\n",
       "</div>"
      ],
      "text/plain": [
       "      x_n-1        xn\n",
       "0  0.100000  0.960195\n",
       "1  0.703452  0.703452\n",
       "2  0.703452  0.768504\n",
       "3  0.768504  0.751320\n",
       "4  0.751320  0.755810\n",
       "5  0.755810  0.754634\n",
       "6  0.754634  0.754942"
      ]
     },
     "execution_count": 11,
     "metadata": {},
     "output_type": "execute_result"
    }
   ],
   "source": [
    "print(\"x = \",HordMethod()[1])\n",
    "HordMethod()[0]"
   ]
  }
 ],
 "metadata": {
  "kernelspec": {
   "display_name": "Python 3 (ipykernel)",
   "language": "python",
   "name": "python3"
  },
  "language_info": {
   "codemirror_mode": {
    "name": "ipython",
    "version": 3
   },
   "file_extension": ".py",
   "mimetype": "text/x-python",
   "name": "python",
   "nbconvert_exporter": "python",
   "pygments_lexer": "ipython3",
   "version": "3.8.10"
  }
 },
 "nbformat": 4,
 "nbformat_minor": 4
}
