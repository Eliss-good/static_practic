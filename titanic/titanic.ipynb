{
 "cells": [
  {
   "cell_type": "markdown",
   "id": "ec22099b-b598-40e0-9a74-01c4b1b1de17",
   "metadata": {},
   "source": [
    "### Анализ погибших на титанике"
   ]
  },
  {
   "cell_type": "code",
   "execution_count": 3,
   "id": "d7c8d578-66bb-4ac9-84dd-6e0482bcb5c1",
   "metadata": {
    "tags": []
   },
   "outputs": [],
   "source": [
    "import pandas as pd\n",
    "import seaborn as sns\n",
    "import numpy as np\n",
    "import matplotlib.pyplot as plt\n",
    "\n",
    "from scipy.stats import ttest_ind, stats\n",
    "import statsmodels.api as sm\n",
    "\n",
    "from math import *"
   ]
  },
  {
   "cell_type": "code",
   "execution_count": 4,
   "id": "7cf748bf-ff63-4e76-8f84-0727f1d77741",
   "metadata": {},
   "outputs": [],
   "source": [
    "all_people = pd.read_csv(\"tested.csv\")"
   ]
  },
  {
   "cell_type": "markdown",
   "id": "375913d7-3d30-4a97-963a-2bd204114b36",
   "metadata": {},
   "source": [
    "##### Рассмотрим взаимосвязь возраста и класса каюты"
   ]
  },
  {
   "cell_type": "code",
   "execution_count": 5,
   "id": "1dd1853e-34fc-4827-a83f-9e7ab086dff3",
   "metadata": {},
   "outputs": [
    {
     "data": {
      "text/html": [
       "<div>\n",
       "<style scoped>\n",
       "    .dataframe tbody tr th:only-of-type {\n",
       "        vertical-align: middle;\n",
       "    }\n",
       "\n",
       "    .dataframe tbody tr th {\n",
       "        vertical-align: top;\n",
       "    }\n",
       "\n",
       "    .dataframe thead th {\n",
       "        text-align: right;\n",
       "    }\n",
       "</style>\n",
       "<table border=\"1\" class=\"dataframe\">\n",
       "  <thead>\n",
       "    <tr style=\"text-align: right;\">\n",
       "      <th></th>\n",
       "      <th>PassengerId</th>\n",
       "      <th>Survived</th>\n",
       "      <th>Pclass</th>\n",
       "      <th>Name</th>\n",
       "      <th>Sex</th>\n",
       "      <th>Age</th>\n",
       "      <th>SibSp</th>\n",
       "      <th>Parch</th>\n",
       "      <th>Ticket</th>\n",
       "      <th>Fare</th>\n",
       "      <th>Cabin</th>\n",
       "      <th>Embarked</th>\n",
       "    </tr>\n",
       "  </thead>\n",
       "  <tbody>\n",
       "    <tr>\n",
       "      <th>0</th>\n",
       "      <td>892</td>\n",
       "      <td>0</td>\n",
       "      <td>3</td>\n",
       "      <td>Kelly, Mr. James</td>\n",
       "      <td>male</td>\n",
       "      <td>34.5</td>\n",
       "      <td>0</td>\n",
       "      <td>0</td>\n",
       "      <td>330911</td>\n",
       "      <td>7.8292</td>\n",
       "      <td>NaN</td>\n",
       "      <td>Q</td>\n",
       "    </tr>\n",
       "    <tr>\n",
       "      <th>1</th>\n",
       "      <td>893</td>\n",
       "      <td>1</td>\n",
       "      <td>3</td>\n",
       "      <td>Wilkes, Mrs. James (Ellen Needs)</td>\n",
       "      <td>female</td>\n",
       "      <td>47.0</td>\n",
       "      <td>1</td>\n",
       "      <td>0</td>\n",
       "      <td>363272</td>\n",
       "      <td>7.0000</td>\n",
       "      <td>NaN</td>\n",
       "      <td>S</td>\n",
       "    </tr>\n",
       "    <tr>\n",
       "      <th>2</th>\n",
       "      <td>894</td>\n",
       "      <td>0</td>\n",
       "      <td>2</td>\n",
       "      <td>Myles, Mr. Thomas Francis</td>\n",
       "      <td>male</td>\n",
       "      <td>62.0</td>\n",
       "      <td>0</td>\n",
       "      <td>0</td>\n",
       "      <td>240276</td>\n",
       "      <td>9.6875</td>\n",
       "      <td>NaN</td>\n",
       "      <td>Q</td>\n",
       "    </tr>\n",
       "    <tr>\n",
       "      <th>3</th>\n",
       "      <td>895</td>\n",
       "      <td>0</td>\n",
       "      <td>3</td>\n",
       "      <td>Wirz, Mr. Albert</td>\n",
       "      <td>male</td>\n",
       "      <td>27.0</td>\n",
       "      <td>0</td>\n",
       "      <td>0</td>\n",
       "      <td>315154</td>\n",
       "      <td>8.6625</td>\n",
       "      <td>NaN</td>\n",
       "      <td>S</td>\n",
       "    </tr>\n",
       "    <tr>\n",
       "      <th>4</th>\n",
       "      <td>896</td>\n",
       "      <td>1</td>\n",
       "      <td>3</td>\n",
       "      <td>Hirvonen, Mrs. Alexander (Helga E Lindqvist)</td>\n",
       "      <td>female</td>\n",
       "      <td>22.0</td>\n",
       "      <td>1</td>\n",
       "      <td>1</td>\n",
       "      <td>3101298</td>\n",
       "      <td>12.2875</td>\n",
       "      <td>NaN</td>\n",
       "      <td>S</td>\n",
       "    </tr>\n",
       "    <tr>\n",
       "      <th>...</th>\n",
       "      <td>...</td>\n",
       "      <td>...</td>\n",
       "      <td>...</td>\n",
       "      <td>...</td>\n",
       "      <td>...</td>\n",
       "      <td>...</td>\n",
       "      <td>...</td>\n",
       "      <td>...</td>\n",
       "      <td>...</td>\n",
       "      <td>...</td>\n",
       "      <td>...</td>\n",
       "      <td>...</td>\n",
       "    </tr>\n",
       "    <tr>\n",
       "      <th>413</th>\n",
       "      <td>1305</td>\n",
       "      <td>0</td>\n",
       "      <td>3</td>\n",
       "      <td>Spector, Mr. Woolf</td>\n",
       "      <td>male</td>\n",
       "      <td>NaN</td>\n",
       "      <td>0</td>\n",
       "      <td>0</td>\n",
       "      <td>A.5. 3236</td>\n",
       "      <td>8.0500</td>\n",
       "      <td>NaN</td>\n",
       "      <td>S</td>\n",
       "    </tr>\n",
       "    <tr>\n",
       "      <th>414</th>\n",
       "      <td>1306</td>\n",
       "      <td>1</td>\n",
       "      <td>1</td>\n",
       "      <td>Oliva y Ocana, Dona. Fermina</td>\n",
       "      <td>female</td>\n",
       "      <td>39.0</td>\n",
       "      <td>0</td>\n",
       "      <td>0</td>\n",
       "      <td>PC 17758</td>\n",
       "      <td>108.9000</td>\n",
       "      <td>C105</td>\n",
       "      <td>C</td>\n",
       "    </tr>\n",
       "    <tr>\n",
       "      <th>415</th>\n",
       "      <td>1307</td>\n",
       "      <td>0</td>\n",
       "      <td>3</td>\n",
       "      <td>Saether, Mr. Simon Sivertsen</td>\n",
       "      <td>male</td>\n",
       "      <td>38.5</td>\n",
       "      <td>0</td>\n",
       "      <td>0</td>\n",
       "      <td>SOTON/O.Q. 3101262</td>\n",
       "      <td>7.2500</td>\n",
       "      <td>NaN</td>\n",
       "      <td>S</td>\n",
       "    </tr>\n",
       "    <tr>\n",
       "      <th>416</th>\n",
       "      <td>1308</td>\n",
       "      <td>0</td>\n",
       "      <td>3</td>\n",
       "      <td>Ware, Mr. Frederick</td>\n",
       "      <td>male</td>\n",
       "      <td>NaN</td>\n",
       "      <td>0</td>\n",
       "      <td>0</td>\n",
       "      <td>359309</td>\n",
       "      <td>8.0500</td>\n",
       "      <td>NaN</td>\n",
       "      <td>S</td>\n",
       "    </tr>\n",
       "    <tr>\n",
       "      <th>417</th>\n",
       "      <td>1309</td>\n",
       "      <td>0</td>\n",
       "      <td>3</td>\n",
       "      <td>Peter, Master. Michael J</td>\n",
       "      <td>male</td>\n",
       "      <td>NaN</td>\n",
       "      <td>1</td>\n",
       "      <td>1</td>\n",
       "      <td>2668</td>\n",
       "      <td>22.3583</td>\n",
       "      <td>NaN</td>\n",
       "      <td>C</td>\n",
       "    </tr>\n",
       "  </tbody>\n",
       "</table>\n",
       "<p>418 rows × 12 columns</p>\n",
       "</div>"
      ],
      "text/plain": [
       "     PassengerId  Survived  Pclass  \\\n",
       "0            892         0       3   \n",
       "1            893         1       3   \n",
       "2            894         0       2   \n",
       "3            895         0       3   \n",
       "4            896         1       3   \n",
       "..           ...       ...     ...   \n",
       "413         1305         0       3   \n",
       "414         1306         1       1   \n",
       "415         1307         0       3   \n",
       "416         1308         0       3   \n",
       "417         1309         0       3   \n",
       "\n",
       "                                             Name     Sex   Age  SibSp  Parch  \\\n",
       "0                                Kelly, Mr. James    male  34.5      0      0   \n",
       "1                Wilkes, Mrs. James (Ellen Needs)  female  47.0      1      0   \n",
       "2                       Myles, Mr. Thomas Francis    male  62.0      0      0   \n",
       "3                                Wirz, Mr. Albert    male  27.0      0      0   \n",
       "4    Hirvonen, Mrs. Alexander (Helga E Lindqvist)  female  22.0      1      1   \n",
       "..                                            ...     ...   ...    ...    ...   \n",
       "413                            Spector, Mr. Woolf    male   NaN      0      0   \n",
       "414                  Oliva y Ocana, Dona. Fermina  female  39.0      0      0   \n",
       "415                  Saether, Mr. Simon Sivertsen    male  38.5      0      0   \n",
       "416                           Ware, Mr. Frederick    male   NaN      0      0   \n",
       "417                      Peter, Master. Michael J    male   NaN      1      1   \n",
       "\n",
       "                 Ticket      Fare Cabin Embarked  \n",
       "0                330911    7.8292   NaN        Q  \n",
       "1                363272    7.0000   NaN        S  \n",
       "2                240276    9.6875   NaN        Q  \n",
       "3                315154    8.6625   NaN        S  \n",
       "4               3101298   12.2875   NaN        S  \n",
       "..                  ...       ...   ...      ...  \n",
       "413           A.5. 3236    8.0500   NaN        S  \n",
       "414            PC 17758  108.9000  C105        C  \n",
       "415  SOTON/O.Q. 3101262    7.2500   NaN        S  \n",
       "416              359309    8.0500   NaN        S  \n",
       "417                2668   22.3583   NaN        C  \n",
       "\n",
       "[418 rows x 12 columns]"
      ]
     },
     "execution_count": 5,
     "metadata": {},
     "output_type": "execute_result"
    }
   ],
   "source": [
    "all_people"
   ]
  },
  {
   "cell_type": "code",
   "execution_count": 6,
   "id": "cda4de81-746d-42b7-b8ac-4a45c87df091",
   "metadata": {},
   "outputs": [
    {
     "data": {
      "text/plain": [
       "[218, 93, 107]"
      ]
     },
     "execution_count": 6,
     "metadata": {},
     "output_type": "execute_result"
    }
   ],
   "source": [
    "all_people['Pclass'].astype(str)\n",
    "\n",
    "all_people.loc[(all_people.Pclass == 1), 'Pclass'] = \"First Class\"\n",
    "all_people.loc[(all_people.Pclass == 2), 'Pclass'] = \"Second Class\"\n",
    "all_people.loc[(all_people.Pclass == 3), 'Pclass'] = \"Third Class\"\n",
    "\n",
    "sert = all_people.Pclass.unique()\n",
    "[all_people.loc[all_people.Pclass == i, 'Age'].shape[0] for i in sert]"
   ]
  },
  {
   "cell_type": "code",
   "execution_count": 7,
   "id": "bc9b3776-e214-434f-9e6d-f0d7b665ef83",
   "metadata": {},
   "outputs": [
    {
     "data": {
      "text/plain": [
       "Text(0.5, 1.0, 'Распределения в каждом классе')"
      ]
     },
     "execution_count": 7,
     "metadata": {},
     "output_type": "execute_result"
    },
    {
     "data": {
      "image/png": "[encoded data removed]",
      "text/plain": [
       "<Figure size 1440x360 with 4 Axes>"
      ]
     },
     "metadata": {
      "needs_background": "light"
     },
     "output_type": "display_data"
    }
   ],
   "source": [
    "figure, axes = plt.subplots(1, 4, figsize=(20,5))\n",
    "\n",
    "axes[0].bar(sert, [all_people.loc[all_people.Pclass == i, 'Age'].mean() for i in sert])\n",
    "axes[0].set_title(\"Средний возраст в каждом классе\")\n",
    "\n",
    "axes[1].bar(sert, [all_people.loc[all_people.Pclass == i, 'Age'].shape[0] for i in sert])\n",
    "axes[1].set_title(\"Количество людей в каждм классе\")\n",
    "\n",
    "axes[2].bar(sert, [all_people.query('Pclass == @i & Survived == 1').shape[0] for i in sert])\n",
    "axes[2].set_title(\"Распределения выживших в каждом классе\")\n",
    "\n",
    "axes[3] = sns.boxplot(x='Pclass', y='Age', data=all_people)\n",
    "axes[3].set_title(\"Распределения в каждом классе\")\n"
   ]
  },
  {
   "cell_type": "markdown",
   "id": "48ca6dd8-3947-4330-b43f-8f0f7b41329e",
   "metadata": {},
   "source": [
    "### На основе этих данных проверим гипотизу\n",
    "##### Превилигированность класса на корабле влияла на выживаемость при караблекрушении\n",
    "\n",
    "---\n",
    "###### Сформируем 50 репрезентативные по 30 человек выборки над которыми, проведём t_test  \n",
    "---"
   ]
  },
  {
   "cell_type": "code",
   "execution_count": 8,
   "id": "0d5e2e9b-d692-428a-ae92-01dc0949b8e4",
   "metadata": {},
   "outputs": [
    {
     "data": {
      "text/plain": [
       "218"
      ]
     },
     "execution_count": 8,
     "metadata": {},
     "output_type": "execute_result"
    }
   ],
   "source": [
    "sert = all_people['Pclass'].unique()\n",
    "all_people.loc[all_people['Pclass'] == sert[0], 'Pclass'].count()"
   ]
  },
  {
   "cell_type": "code",
   "execution_count": 9,
   "id": "85a88628-cf10-40be-973b-912f3d4e70bd",
   "metadata": {},
   "outputs": [],
   "source": [
    "def create_selection(table=None, column=None, size_sel=None, count_sel=None):\n",
    "    procentag = np.array([])\n",
    "    sert = table[column].unique()\n",
    "    \n",
    "    for i in sert:\n",
    "        size_column = table.loc[table[column] == i, column].count()\n",
    "        procentag = np.append(procentag, size_column)\n",
    "        \n",
    "    i = np.indices(procentag.shape)\n",
    "    procentag[i] = procentag[i] / procentag.sum()\n",
    "    \n",
    "    all_select = []\n",
    "    while count_sel != 0:    \n",
    "        new_select = {}\n",
    "        size_copy = size_sel\n",
    "        for i in range(len(sert)):\n",
    "            vibor =  table.loc[table[column] == sert[i]].sample(int(size_sel * procentag[i]), replace=False)\n",
    "            new_select[sert[i]] = vibor\n",
    "            \n",
    "        all_select.append(new_select)\n",
    "        count_sel -= 1\n",
    "        \n",
    "    return all_select\n",
    "    "
   ]
  },
  {
   "cell_type": "code",
   "execution_count": 10,
   "id": "529ecc5f-86fd-43ca-a2cb-7b7f51476624",
   "metadata": {},
   "outputs": [],
   "source": [
    "def create_count(arr_select, column):\n",
    "    all_means_selects = {}\n",
    "    \n",
    "    for one_sel in arr_select:\n",
    "        for name_sel in one_sel:\n",
    "            data = one_sel[name_sel]\n",
    "            prob = data.loc[data[column] == 1].count() / data[column].count()\n",
    "            \n",
    "            if all_means_selects.get(name_sel) is None:\n",
    "                all_means_selects[name_sel] = np.array([prob])    \n",
    "                                                       \n",
    "            all_means_selects[name_sel] = np.append(all_means_selects[name_sel], prob)\n",
    "            \n",
    "    return all_means_selects"
   ]
  },
  {
   "cell_type": "markdown",
   "id": "2ec1704c-cfba-4492-9e6f-118db3327933",
   "metadata": {},
   "source": []
  },
  {
   "cell_type": "code",
   "execution_count": 11,
   "id": "3771112d-404b-483b-9473-b63d3f922731",
   "metadata": {},
   "outputs": [],
   "source": [
    "def t_test(date_group, column_one, column_two):\n",
    "    mean_one = date_group[column_one].mean()\n",
    "    mean_two = date_group[column_two].mean()\n",
    "    \n",
    "    std_one = date_group[column_one].std()\n",
    "    std_two = date_group[column_two].std()\n",
    "    \n",
    "    count_one = date_group[column_one].shape[0]\n",
    "    count_two = date_group[column_two].shape[0]\n",
    "        \n",
    "    return abs(mean_two - mean_one)/(sqrt(((std_one ** 2)/count_one) + ((std_two ** 2)/ count_two)))\n",
    "    "
   ]
  },
  {
   "cell_type": "code",
   "execution_count": null,
   "id": "5f0056c3-625b-4a4e-b257-fcd1df3dd925",
   "metadata": {},
   "outputs": [
    {
     "name": "stdout",
     "output_type": "stream",
     "text": [
      "12.421331127568733\n",
      "Ttest_indResult(statistic=-12.411178832347764, pvalue=2.1305225883795355e-33)\n"
     ]
    }
   ],
   "source": [
    "all_select = create_selection(all_people, 'Pclass', 30, 50)\n",
    "date = create_count(all_select, 'Survived')\n",
    "\n",
    "print(t_test(date, 'Third Class', 'First Class'))\n",
    "print(ttest_ind(date['Third Class'], date['First Class']))"
   ]
  },
  {
   "cell_type": "markdown",
   "id": "88543306-0501-4756-a621-ce565ca57ff0",
   "metadata": {},
   "source": []
  },
  {
   "cell_type": "code",
   "execution_count": 27,
   "id": "79694b65-20f0-43ba-80e3-b4a11cfda234",
   "metadata": {},
   "outputs": [],
   "source": [
    "temp = all_people.groupby(\"Sex\")['Age'].min().to_frame().reset_index()"
   ]
  },
  {
   "cell_type": "code",
   "execution_count": 28,
   "id": "d9290d57-0f4f-4e27-b28a-71798cc9dca2",
   "metadata": {},
   "outputs": [
    {
     "data": {
      "text/html": [
       "<div>\n",
       "<style scoped>\n",
       "    .dataframe tbody tr th:only-of-type {\n",
       "        vertical-align: middle;\n",
       "    }\n",
       "\n",
       "    .dataframe tbody tr th {\n",
       "        vertical-align: top;\n",
       "    }\n",
       "\n",
       "    .dataframe thead th {\n",
       "        text-align: right;\n",
       "    }\n",
       "</style>\n",
       "<table border=\"1\" class=\"dataframe\">\n",
       "  <thead>\n",
       "    <tr style=\"text-align: right;\">\n",
       "      <th></th>\n",
       "      <th>Sex</th>\n",
       "      <th>Age</th>\n",
       "    </tr>\n",
       "  </thead>\n",
       "  <tbody>\n",
       "    <tr>\n",
       "      <th>0</th>\n",
       "      <td>female</td>\n",
       "      <td>0.17</td>\n",
       "    </tr>\n",
       "    <tr>\n",
       "      <th>1</th>\n",
       "      <td>male</td>\n",
       "      <td>0.33</td>\n",
       "    </tr>\n",
       "  </tbody>\n",
       "</table>\n",
       "</div>"
      ],
      "text/plain": [
       "      Sex   Age\n",
       "0  female  0.17\n",
       "1    male  0.33"
      ]
     },
     "execution_count": 28,
     "metadata": {},
     "output_type": "execute_result"
    }
   ],
   "source": [
    "temp"
   ]
  },
  {
   "cell_type": "code",
   "execution_count": null,
   "id": "9ded2aa6-5868-49ba-908d-480042695924",
   "metadata": {},
   "outputs": [],
   "source": []
  },
  {
   "cell_type": "code",
   "execution_count": null,
   "id": "9a7060b6-9b90-485b-bd9c-0e159483eada",
   "metadata": {},
   "outputs": [],
   "source": []
  }
 ],
 "metadata": {
  "kernelspec": {
   "display_name": "Python 3 (ipykernel)",
   "language": "python",
   "name": "python3"
  },
  "language_info": {
   "codemirror_mode": {
    "name": "ipython",
    "version": 3
   },
   "file_extension": ".py",
   "mimetype": "text/x-python",
   "name": "python",
   "nbconvert_exporter": "python",
   "pygments_lexer": "ipython3",
   "version": "3.8.10"
  }
 },
 "nbformat": 4,
 "nbformat_minor": 5
}
